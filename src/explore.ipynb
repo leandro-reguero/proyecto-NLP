{
    "cells": [
        {
            "cell_type": "markdown",
            "metadata": {},
            "source": [
                "# Explore here"
            ]
        },
        {
            "cell_type": "code",
            "execution_count": 63,
            "metadata": {},
            "outputs": [],
            "source": [
                "# Libraries\n",
                "import pandas as pd\n",
                "import numpy as np\n",
                "import regex as re\n",
                "\n",
                "import matplotlib.pyplot as plt\n",
                "import seaborn as sns\n",
                "\n",
                "from nltk import download\n",
                "from nltk.corpus import stopwords\n",
                "from nltk.stem import WordNetLemmatizer\n",
                "\n",
                "from sklearn.feature_extraction.text import TfidfVectorizer\n",
                "from sklearn.model_selection import train_test_split\n",
                "from sklearn.metrics import accuracy_score\n",
                "\n",
                "from sklearn.svm import SVC\n",
                "\n",
                "import warnings"
            ]
        },
        {
            "cell_type": "code",
            "execution_count": 64,
            "metadata": {},
            "outputs": [
                {
                    "data": {
                        "text/html": [
                            "<div>\n",
                            "<style scoped>\n",
                            "    .dataframe tbody tr th:only-of-type {\n",
                            "        vertical-align: middle;\n",
                            "    }\n",
                            "\n",
                            "    .dataframe tbody tr th {\n",
                            "        vertical-align: top;\n",
                            "    }\n",
                            "\n",
                            "    .dataframe thead th {\n",
                            "        text-align: right;\n",
                            "    }\n",
                            "</style>\n",
                            "<table border=\"1\" class=\"dataframe\">\n",
                            "  <thead>\n",
                            "    <tr style=\"text-align: right;\">\n",
                            "      <th></th>\n",
                            "      <th>url</th>\n",
                            "      <th>is_spam</th>\n",
                            "    </tr>\n",
                            "  </thead>\n",
                            "  <tbody>\n",
                            "    <tr>\n",
                            "      <th>0</th>\n",
                            "      <td>https://briefingday.us8.list-manage.com/unsubs...</td>\n",
                            "      <td>True</td>\n",
                            "    </tr>\n",
                            "    <tr>\n",
                            "      <th>1</th>\n",
                            "      <td>https://www.hvper.com/</td>\n",
                            "      <td>True</td>\n",
                            "    </tr>\n",
                            "    <tr>\n",
                            "      <th>2</th>\n",
                            "      <td>https://briefingday.com/m/v4n3i4f3</td>\n",
                            "      <td>True</td>\n",
                            "    </tr>\n",
                            "    <tr>\n",
                            "      <th>3</th>\n",
                            "      <td>https://briefingday.com/n/20200618/m#commentform</td>\n",
                            "      <td>False</td>\n",
                            "    </tr>\n",
                            "    <tr>\n",
                            "      <th>4</th>\n",
                            "      <td>https://briefingday.com/fan</td>\n",
                            "      <td>True</td>\n",
                            "    </tr>\n",
                            "  </tbody>\n",
                            "</table>\n",
                            "</div>"
                        ],
                        "text/plain": [
                            "                                                 url  is_spam\n",
                            "0  https://briefingday.us8.list-manage.com/unsubs...     True\n",
                            "1                             https://www.hvper.com/     True\n",
                            "2                 https://briefingday.com/m/v4n3i4f3     True\n",
                            "3   https://briefingday.com/n/20200618/m#commentform    False\n",
                            "4                        https://briefingday.com/fan     True"
                        ]
                    },
                    "execution_count": 64,
                    "metadata": {},
                    "output_type": "execute_result"
                }
            ],
            "source": [
                "rawdata = pd.read_csv('https://raw.githubusercontent.com/4GeeksAcademy/NLP-project-tutorial/main/url_spam.csv')\n",
                "\n",
                "rawdata.to_csv('../data/raw/url_spam_raw.csv')\n",
                "rawdata.head()"
            ]
        },
        {
            "cell_type": "code",
            "execution_count": 65,
            "metadata": {},
            "outputs": [
                {
                    "data": {
                        "text/html": [
                            "<div>\n",
                            "<style scoped>\n",
                            "    .dataframe tbody tr th:only-of-type {\n",
                            "        vertical-align: middle;\n",
                            "    }\n",
                            "\n",
                            "    .dataframe tbody tr th {\n",
                            "        vertical-align: top;\n",
                            "    }\n",
                            "\n",
                            "    .dataframe thead th {\n",
                            "        text-align: right;\n",
                            "    }\n",
                            "</style>\n",
                            "<table border=\"1\" class=\"dataframe\">\n",
                            "  <thead>\n",
                            "    <tr style=\"text-align: right;\">\n",
                            "      <th></th>\n",
                            "      <th>url</th>\n",
                            "      <th>is_spam</th>\n",
                            "    </tr>\n",
                            "  </thead>\n",
                            "  <tbody>\n",
                            "    <tr>\n",
                            "      <th>0</th>\n",
                            "      <td>https://briefingday.us8.list-manage.com/unsubs...</td>\n",
                            "      <td>1</td>\n",
                            "    </tr>\n",
                            "    <tr>\n",
                            "      <th>1</th>\n",
                            "      <td>https://www.hvper.com/</td>\n",
                            "      <td>1</td>\n",
                            "    </tr>\n",
                            "    <tr>\n",
                            "      <th>2</th>\n",
                            "      <td>https://briefingday.com/m/v4n3i4f3</td>\n",
                            "      <td>1</td>\n",
                            "    </tr>\n",
                            "    <tr>\n",
                            "      <th>3</th>\n",
                            "      <td>https://briefingday.com/n/20200618/m#commentform</td>\n",
                            "      <td>0</td>\n",
                            "    </tr>\n",
                            "    <tr>\n",
                            "      <th>4</th>\n",
                            "      <td>https://briefingday.com/fan</td>\n",
                            "      <td>1</td>\n",
                            "    </tr>\n",
                            "  </tbody>\n",
                            "</table>\n",
                            "</div>"
                        ],
                        "text/plain": [
                            "                                                 url  is_spam\n",
                            "0  https://briefingday.us8.list-manage.com/unsubs...        1\n",
                            "1                             https://www.hvper.com/        1\n",
                            "2                 https://briefingday.com/m/v4n3i4f3        1\n",
                            "3   https://briefingday.com/n/20200618/m#commentform        0\n",
                            "4                        https://briefingday.com/fan        1"
                        ]
                    },
                    "execution_count": 65,
                    "metadata": {},
                    "output_type": "execute_result"
                }
            ],
            "source": [
                "rawdata['is_spam'] = rawdata['is_spam'].astype(int) \n",
                "\n",
                "rawdata.head()"
            ]
        },
        {
            "cell_type": "code",
            "execution_count": 66,
            "metadata": {},
            "outputs": [
                {
                    "name": "stdout",
                    "output_type": "stream",
                    "text": [
                        "<class 'pandas.core.frame.DataFrame'>\n",
                        "RangeIndex: 2999 entries, 0 to 2998\n",
                        "Data columns (total 2 columns):\n",
                        " #   Column   Non-Null Count  Dtype \n",
                        "---  ------   --------------  ----- \n",
                        " 0   url      2999 non-null   object\n",
                        " 1   is_spam  2999 non-null   int32 \n",
                        "dtypes: int32(1), object(1)\n",
                        "memory usage: 35.3+ KB\n"
                    ]
                }
            ],
            "source": [
                "rawdata.info()"
            ]
        },
        {
            "cell_type": "code",
            "execution_count": 67,
            "metadata": {},
            "outputs": [
                {
                    "name": "stdout",
                    "output_type": "stream",
                    "text": [
                        "                                                    url  is_spam\n",
                        "60    https://briefingday.us8.list-manage.com/unsubs...        1\n",
                        "61                               https://www.hvper.com/        1\n",
                        "62                   https://briefingday.com/m/v4n3i4f3        1\n",
                        "64                          https://briefingday.com/fan        1\n",
                        "113                         https://briefingday.com/fan        1\n",
                        "...                                                 ...      ...\n",
                        "2971  https://www.cnbc.com/2020/06/29/stock-market-f...        0\n",
                        "2972                      https://thehustle.co/account/        1\n",
                        "2973                              https://thehustle.co/        1\n",
                        "2979               https://www.bloomberg.com/tosv2.html        1\n",
                        "2995                      https://www.youtube.com/watch        1\n",
                        "\n",
                        "[630 rows x 2 columns]\n"
                    ]
                }
            ],
            "source": [
                "rawdata.duplicated().sum()\n",
                "\n",
                "dupes = rawdata[rawdata.duplicated()]\n",
                "\n",
                "print(dupes)"
            ]
        },
        {
            "cell_type": "code",
            "execution_count": 68,
            "metadata": {},
            "outputs": [
                {
                    "name": "stdout",
                    "output_type": "stream",
                    "text": [
                        "briefingday count = 69\n",
                        "youtube count = 104\n"
                    ]
                }
            ],
            "source": [
                "briefingday = rawdata[rawdata['url'].str.contains('briefingday')]\n",
                "print(f\"briefingday count = {len(briefingday)}\")\n",
                "\n",
                "yt = rawdata[rawdata['url'].str.contains('youtube')]\n",
                "print(f\"youtube count = {len(yt)}\")"
            ]
        },
        {
            "cell_type": "code",
            "execution_count": 69,
            "metadata": {},
            "outputs": [
                {
                    "name": "stdout",
                    "output_type": "stream",
                    "text": [
                        "yt dupes count = 14\n"
                    ]
                }
            ],
            "source": [
                "yt_dupes = dupes[dupes['url'].str.contains('youtube')]\n",
                "print(f\"yt dupes count = {len(yt_dupes)}\")"
            ]
        },
        {
            "cell_type": "markdown",
            "metadata": {},
            "source": [
                "##### No quitamos los duplicados, ya que muchos duplicados realmente son links distintos y pueden aportar a la clasificación del modelo"
            ]
        },
        {
            "cell_type": "code",
            "execution_count": 70,
            "metadata": {},
            "outputs": [
                {
                    "name": "stdout",
                    "output_type": "stream",
                    "text": [
                        "https:// = 2945\n",
                        "http:// = 54\n",
                        "total = 2999\n",
                        "dataset length = 2999\n"
                    ]
                }
            ],
            "source": [
                "https = 0\n",
                "http = 0\n",
                "for row in rawdata['url']:\n",
                "    if str(row).startswith('https://'):\n",
                "        https += 1\n",
                "    elif str(row).startswith('http://'):\n",
                "        http += 1\n",
                "    else:\n",
                "        print(row)\n",
                "\n",
                "\n",
                "print(f\"https:// = {https}\")\n",
                "print(f\"http:// = {http}\")\n",
                "print(f\"total = {https + http}\")\n",
                "print(f\"dataset length = {len(rawdata)}\")"
            ]
        },
        {
            "cell_type": "code",
            "execution_count": 71,
            "metadata": {},
            "outputs": [
                {
                    "name": "stdout",
                    "output_type": "stream",
                    "text": [
                        "                                                    url  is_spam  \\\n",
                        "0     https://briefingday.us8.list-manage.com/unsubs...        1   \n",
                        "1                                https://www.hvper.com/        1   \n",
                        "2                    https://briefingday.com/m/v4n3i4f3        1   \n",
                        "3      https://briefingday.com/n/20200618/m#commentform        0   \n",
                        "4                           https://briefingday.com/fan        1   \n",
                        "...                                                 ...      ...   \n",
                        "2994  https://www.smartcitiesworld.net/news/news/dee...        0   \n",
                        "2995                      https://www.youtube.com/watch        1   \n",
                        "2996  https://techcrunch.com/2019/07/04/an-optimisti...        0   \n",
                        "2997  https://www.technologyreview.com/2019/12/20/13...        0   \n",
                        "2998       https://www.bbc.com/news/technology-51018758        0   \n",
                        "\n",
                        "                                           url_stripped  \n",
                        "0           briefingday.us8.list-manage.com/unsubscribe  \n",
                        "1                                            hvper.com/  \n",
                        "2                            briefingday.com/m/v4n3i4f3  \n",
                        "3              briefingday.com/n/20200618/m#commentform  \n",
                        "4                                   briefingday.com/fan  \n",
                        "...                                                 ...  \n",
                        "2994  smartcitiesworld.net/news/news/deepfake-techno...  \n",
                        "2995                                  youtube.com/watch  \n",
                        "2996  techcrunch.com/2019/07/04/an-optimistic-view-o...  \n",
                        "2997  technologyreview.com/2019/12/20/131462/this-st...  \n",
                        "2998                   bbc.com/news/technology-51018758  \n",
                        "\n",
                        "[2999 rows x 3 columns]\n"
                    ]
                }
            ],
            "source": [
                "def clean_htps(columna):\n",
                "    # defino la nueva columna\n",
                "    new_column = []\n",
                "    # cambio y sustituyo los inicios de la columna raw\n",
                "    for row in columna:\n",
                "        if str(row).startswith('https://'):\n",
                "            row = row.replace('https://', '')\n",
                "            new_column.append(row) # guardo el resultado en la lista vacía\n",
                "        elif str(row).startswith('http://'):\n",
                "            row = row.replace('http://', '')\n",
                "            new_column.append(row)\n",
                "        else:\n",
                "            new_column.append(row)\n",
                "\n",
                "    final_column = []\n",
                "    # ahora que ya no hay https, quito el www del inicio\n",
                "    for row in new_column:\n",
                "        if str(row).startswith('www.'):\n",
                "            row = row.replace('www.', '')\n",
                "            final_column.append(row)\n",
                "        else: \n",
                "            final_column.append(row)\n",
                "\n",
                "\n",
                "    return final_column\n",
                "\n",
                "rawdata['url_stripped'] = clean_htps(rawdata['url'])\n",
                "print(rawdata)"
            ]
        },
        {
            "cell_type": "code",
            "execution_count": null,
            "metadata": {},
            "outputs": [],
            "source": []
        }
    ],
    "metadata": {
        "kernelspec": {
            "display_name": "Python 3.8.13 64-bit ('3.8.13')",
            "language": "python",
            "name": "python3"
        },
        "language_info": {
            "codemirror_mode": {
                "name": "ipython",
                "version": 3
            },
            "file_extension": ".py",
            "mimetype": "text/x-python",
            "name": "python",
            "nbconvert_exporter": "python",
            "pygments_lexer": "ipython3",
            "version": "3.11.1"
        },
        "orig_nbformat": 4,
        "vscode": {
            "interpreter": {
                "hash": "110cc1dee26208153f2972f08a2ad52b6a56238dc66d48e87fb757ef2996db56"
            }
        }
    },
    "nbformat": 4,
    "nbformat_minor": 2
}
