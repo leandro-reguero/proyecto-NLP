{
    "cells": [
        {
            "cell_type": "markdown",
            "metadata": {},
            "source": [
                "# Explore here"
            ]
        },
        {
            "cell_type": "code",
            "execution_count": 2,
            "metadata": {},
            "outputs": [],
            "source": [
                "# Libraries\n",
                "import pandas as pd\n",
                "import numpy as np\n",
                "import regex as re\n",
                "\n",
                "import matplotlib.pyplot as plt\n",
                "import seaborn as sns\n",
                "\n",
                "from nltk import download\n",
                "from nltk.corpus import stopwords\n",
                "from nltk.stem import WordNetLemmatizer\n",
                "\n",
                "from sklearn.feature_extraction.text import TfidfVectorizer\n",
                "from sklearn.model_selection import train_test_split\n",
                "from sklearn.metrics import accuracy_score\n",
                "\n",
                "from sklearn.svm import SVC\n",
                "\n",
                "import warnings"
            ]
        },
        {
            "cell_type": "code",
            "execution_count": 3,
            "metadata": {},
            "outputs": [
                {
                    "data": {
                        "text/html": [
                            "<div>\n",
                            "<style scoped>\n",
                            "    .dataframe tbody tr th:only-of-type {\n",
                            "        vertical-align: middle;\n",
                            "    }\n",
                            "\n",
                            "    .dataframe tbody tr th {\n",
                            "        vertical-align: top;\n",
                            "    }\n",
                            "\n",
                            "    .dataframe thead th {\n",
                            "        text-align: right;\n",
                            "    }\n",
                            "</style>\n",
                            "<table border=\"1\" class=\"dataframe\">\n",
                            "  <thead>\n",
                            "    <tr style=\"text-align: right;\">\n",
                            "      <th></th>\n",
                            "      <th>url</th>\n",
                            "      <th>is_spam</th>\n",
                            "    </tr>\n",
                            "  </thead>\n",
                            "  <tbody>\n",
                            "    <tr>\n",
                            "      <th>0</th>\n",
                            "      <td>https://briefingday.us8.list-manage.com/unsubs...</td>\n",
                            "      <td>True</td>\n",
                            "    </tr>\n",
                            "    <tr>\n",
                            "      <th>1</th>\n",
                            "      <td>https://www.hvper.com/</td>\n",
                            "      <td>True</td>\n",
                            "    </tr>\n",
                            "    <tr>\n",
                            "      <th>2</th>\n",
                            "      <td>https://briefingday.com/m/v4n3i4f3</td>\n",
                            "      <td>True</td>\n",
                            "    </tr>\n",
                            "    <tr>\n",
                            "      <th>3</th>\n",
                            "      <td>https://briefingday.com/n/20200618/m#commentform</td>\n",
                            "      <td>False</td>\n",
                            "    </tr>\n",
                            "    <tr>\n",
                            "      <th>4</th>\n",
                            "      <td>https://briefingday.com/fan</td>\n",
                            "      <td>True</td>\n",
                            "    </tr>\n",
                            "  </tbody>\n",
                            "</table>\n",
                            "</div>"
                        ],
                        "text/plain": [
                            "                                                 url  is_spam\n",
                            "0  https://briefingday.us8.list-manage.com/unsubs...     True\n",
                            "1                             https://www.hvper.com/     True\n",
                            "2                 https://briefingday.com/m/v4n3i4f3     True\n",
                            "3   https://briefingday.com/n/20200618/m#commentform    False\n",
                            "4                        https://briefingday.com/fan     True"
                        ]
                    },
                    "execution_count": 3,
                    "metadata": {},
                    "output_type": "execute_result"
                }
            ],
            "source": [
                "rawdata = pd.read_csv('https://raw.githubusercontent.com/4GeeksAcademy/NLP-project-tutorial/main/url_spam.csv')\n",
                "\n",
                "rawdata.to_csv('../data/raw/url_spam_raw.csv')\n",
                "rawdata.head()"
            ]
        },
        {
            "cell_type": "code",
            "execution_count": 4,
            "metadata": {},
            "outputs": [
                {
                    "data": {
                        "text/html": [
                            "<div>\n",
                            "<style scoped>\n",
                            "    .dataframe tbody tr th:only-of-type {\n",
                            "        vertical-align: middle;\n",
                            "    }\n",
                            "\n",
                            "    .dataframe tbody tr th {\n",
                            "        vertical-align: top;\n",
                            "    }\n",
                            "\n",
                            "    .dataframe thead th {\n",
                            "        text-align: right;\n",
                            "    }\n",
                            "</style>\n",
                            "<table border=\"1\" class=\"dataframe\">\n",
                            "  <thead>\n",
                            "    <tr style=\"text-align: right;\">\n",
                            "      <th></th>\n",
                            "      <th>url</th>\n",
                            "      <th>is_spam</th>\n",
                            "    </tr>\n",
                            "  </thead>\n",
                            "  <tbody>\n",
                            "    <tr>\n",
                            "      <th>0</th>\n",
                            "      <td>https://briefingday.us8.list-manage.com/unsubs...</td>\n",
                            "      <td>1</td>\n",
                            "    </tr>\n",
                            "    <tr>\n",
                            "      <th>1</th>\n",
                            "      <td>https://www.hvper.com/</td>\n",
                            "      <td>1</td>\n",
                            "    </tr>\n",
                            "    <tr>\n",
                            "      <th>2</th>\n",
                            "      <td>https://briefingday.com/m/v4n3i4f3</td>\n",
                            "      <td>1</td>\n",
                            "    </tr>\n",
                            "    <tr>\n",
                            "      <th>3</th>\n",
                            "      <td>https://briefingday.com/n/20200618/m#commentform</td>\n",
                            "      <td>0</td>\n",
                            "    </tr>\n",
                            "    <tr>\n",
                            "      <th>4</th>\n",
                            "      <td>https://briefingday.com/fan</td>\n",
                            "      <td>1</td>\n",
                            "    </tr>\n",
                            "  </tbody>\n",
                            "</table>\n",
                            "</div>"
                        ],
                        "text/plain": [
                            "                                                 url  is_spam\n",
                            "0  https://briefingday.us8.list-manage.com/unsubs...        1\n",
                            "1                             https://www.hvper.com/        1\n",
                            "2                 https://briefingday.com/m/v4n3i4f3        1\n",
                            "3   https://briefingday.com/n/20200618/m#commentform        0\n",
                            "4                        https://briefingday.com/fan        1"
                        ]
                    },
                    "execution_count": 4,
                    "metadata": {},
                    "output_type": "execute_result"
                }
            ],
            "source": [
                "rawdata['is_spam'] = rawdata['is_spam'].astype(int) \n",
                "\n",
                "rawdata.head()"
            ]
        },
        {
            "cell_type": "code",
            "execution_count": 5,
            "metadata": {},
            "outputs": [
                {
                    "name": "stdout",
                    "output_type": "stream",
                    "text": [
                        "<class 'pandas.core.frame.DataFrame'>\n",
                        "RangeIndex: 2999 entries, 0 to 2998\n",
                        "Data columns (total 2 columns):\n",
                        " #   Column   Non-Null Count  Dtype \n",
                        "---  ------   --------------  ----- \n",
                        " 0   url      2999 non-null   object\n",
                        " 1   is_spam  2999 non-null   int32 \n",
                        "dtypes: int32(1), object(1)\n",
                        "memory usage: 35.3+ KB\n"
                    ]
                }
            ],
            "source": [
                "rawdata.info()"
            ]
        },
        {
            "cell_type": "code",
            "execution_count": 6,
            "metadata": {},
            "outputs": [
                {
                    "name": "stdout",
                    "output_type": "stream",
                    "text": [
                        "                                                    url  is_spam\n",
                        "60    https://briefingday.us8.list-manage.com/unsubs...        1\n",
                        "61                               https://www.hvper.com/        1\n",
                        "62                   https://briefingday.com/m/v4n3i4f3        1\n",
                        "64                          https://briefingday.com/fan        1\n",
                        "113                         https://briefingday.com/fan        1\n",
                        "...                                                 ...      ...\n",
                        "2971  https://www.cnbc.com/2020/06/29/stock-market-f...        0\n",
                        "2972                      https://thehustle.co/account/        1\n",
                        "2973                              https://thehustle.co/        1\n",
                        "2979               https://www.bloomberg.com/tosv2.html        1\n",
                        "2995                      https://www.youtube.com/watch        1\n",
                        "\n",
                        "[630 rows x 2 columns]\n"
                    ]
                }
            ],
            "source": [
                "rawdata.duplicated().sum()\n",
                "\n",
                "dupes = rawdata[rawdata.duplicated()]\n",
                "\n",
                "print(dupes)"
            ]
        },
        {
            "cell_type": "code",
            "execution_count": 7,
            "metadata": {},
            "outputs": [
                {
                    "name": "stdout",
                    "output_type": "stream",
                    "text": [
                        "briefingday count = 69\n",
                        "youtube count = 104\n"
                    ]
                }
            ],
            "source": [
                "briefingday = rawdata[rawdata['url'].str.contains('briefingday')]\n",
                "print(f\"briefingday count = {len(briefingday)}\")\n",
                "\n",
                "yt = rawdata[rawdata['url'].str.contains('youtube')]\n",
                "print(f\"youtube count = {len(yt)}\")"
            ]
        },
        {
            "cell_type": "code",
            "execution_count": 8,
            "metadata": {},
            "outputs": [
                {
                    "name": "stdout",
                    "output_type": "stream",
                    "text": [
                        "yt dupes count = 14\n"
                    ]
                }
            ],
            "source": [
                "yt_dupes = dupes[dupes['url'].str.contains('youtube')]\n",
                "print(f\"yt dupes count = {len(yt_dupes)}\")"
            ]
        },
        {
            "cell_type": "markdown",
            "metadata": {},
            "source": [
                "##### No quitamos los duplicados, ya que muchos duplicados realmente son links distintos y pueden aportar a la clasificación del modelo"
            ]
        },
        {
            "cell_type": "code",
            "execution_count": 9,
            "metadata": {},
            "outputs": [
                {
                    "name": "stdout",
                    "output_type": "stream",
                    "text": [
                        "https:// = 2945\n",
                        "http:// = 54\n",
                        "total = 2999\n",
                        "dataset length = 2999\n"
                    ]
                }
            ],
            "source": [
                "https = 0\n",
                "http = 0\n",
                "for row in rawdata['url']:\n",
                "    if str(row).startswith('https://'):\n",
                "        https += 1\n",
                "    elif str(row).startswith('http://'):\n",
                "        http += 1\n",
                "    else:\n",
                "        print(row)\n",
                "\n",
                "\n",
                "print(f\"https:// = {https}\")\n",
                "print(f\"http:// = {http}\")\n",
                "print(f\"total = {https + http}\")\n",
                "print(f\"dataset length = {len(rawdata)}\")"
            ]
        },
        {
            "cell_type": "code",
            "execution_count": 10,
            "metadata": {},
            "outputs": [
                {
                    "name": "stdout",
                    "output_type": "stream",
                    "text": [
                        "                                                    url  is_spam  \\\n",
                        "0     https://briefingday.us8.list-manage.com/unsubs...        1   \n",
                        "1                                https://www.hvper.com/        1   \n",
                        "2                    https://briefingday.com/m/v4n3i4f3        1   \n",
                        "3      https://briefingday.com/n/20200618/m#commentform        0   \n",
                        "4                           https://briefingday.com/fan        1   \n",
                        "...                                                 ...      ...   \n",
                        "2994  https://www.smartcitiesworld.net/news/news/dee...        0   \n",
                        "2995                      https://www.youtube.com/watch        1   \n",
                        "2996  https://techcrunch.com/2019/07/04/an-optimisti...        0   \n",
                        "2997  https://www.technologyreview.com/2019/12/20/13...        0   \n",
                        "2998       https://www.bbc.com/news/technology-51018758        0   \n",
                        "\n",
                        "                                           url_stripped  \n",
                        "0           briefingday.us8.list-manage.com/unsubscribe  \n",
                        "1                                            hvper.com/  \n",
                        "2                            briefingday.com/m/v4n3i4f3  \n",
                        "3              briefingday.com/n/20200618/m#commentform  \n",
                        "4                                   briefingday.com/fan  \n",
                        "...                                                 ...  \n",
                        "2994  smartcitiesworld.net/news/news/deepfake-techno...  \n",
                        "2995                                  youtube.com/watch  \n",
                        "2996  techcrunch.com/2019/07/04/an-optimistic-view-o...  \n",
                        "2997  technologyreview.com/2019/12/20/131462/this-st...  \n",
                        "2998                   bbc.com/news/technology-51018758  \n",
                        "\n",
                        "[2999 rows x 3 columns]\n"
                    ]
                }
            ],
            "source": [
                "def clean_htps(columna):\n",
                "    # defino la nueva columna\n",
                "    new_column = []\n",
                "    # cambio y sustituyo los inicios de la columna raw\n",
                "    for row in columna:\n",
                "        if str(row).startswith('https://'):\n",
                "            row = row.replace('https://', '')\n",
                "            new_column.append(row) # guardo el resultado en la lista vacía\n",
                "        elif str(row).startswith('http://'):\n",
                "            row = row.replace('http://', '')\n",
                "            new_column.append(row)\n",
                "        else:\n",
                "            new_column.append(row)\n",
                "\n",
                "    final_column = []\n",
                "    # ahora que ya no hay https, quito el www del inicio\n",
                "    for row in new_column:\n",
                "        if str(row).startswith('www.'):\n",
                "            row = row.replace('www.', '')\n",
                "            final_column.append(row)\n",
                "        else: \n",
                "            final_column.append(row)\n",
                "\n",
                "\n",
                "    return final_column\n",
                "\n",
                "rawdata['url_stripped'] = clean_htps(rawdata['url'])\n",
                "print(rawdata)"
            ]
        },
        {
            "cell_type": "code",
            "execution_count": 11,
            "metadata": {},
            "outputs": [
                {
                    "name": "stdout",
                    "output_type": "stream",
                    "text": [
                        "count      2999\n",
                        "unique      386\n",
                        "top       [com]\n",
                        "freq        534\n",
                        "Name: url, dtype: object\n"
                    ]
                }
            ],
            "source": [
                "def get_dot(row):\n",
                "    # creo la lista para guardar los dots\n",
                "    dots = []\n",
                "    # divido el string en base al punto, y me quedo con lo que viene despúes del punto\n",
                "    x = str(row).partition('.')[2]\n",
                "    # guardo 3 caracteres despues del punto (.com)\n",
                "    dots.append(str(x)[:3])\n",
                "    return dots\n",
                "\n",
                "# aplico la función a toda la columna\n",
                "puntos = rawdata['url'].apply(get_dot)\n",
                "print(puntos.describe())"
            ]
        },
        {
            "cell_type": "code",
            "execution_count": 12,
            "metadata": {},
            "outputs": [
                {
                    "name": "stdout",
                    "output_type": "stream",
                    "text": [
                        "                                                    url  is_spam  \\\n",
                        "0     https://briefingday.us8.list-manage.com/unsubs...        1   \n",
                        "1                                https://www.hvper.com/        1   \n",
                        "2                    https://briefingday.com/m/v4n3i4f3        1   \n",
                        "3      https://briefingday.com/n/20200618/m#commentform        0   \n",
                        "4                           https://briefingday.com/fan        1   \n",
                        "...                                                 ...      ...   \n",
                        "2994  https://www.smartcitiesworld.net/news/news/dee...        0   \n",
                        "2995                      https://www.youtube.com/watch        1   \n",
                        "2996  https://techcrunch.com/2019/07/04/an-optimisti...        0   \n",
                        "2997  https://www.technologyreview.com/2019/12/20/13...        0   \n",
                        "2998       https://www.bbc.com/news/technology-51018758        0   \n",
                        "\n",
                        "                                           url_stripped  \n",
                        "0           briefingday.us8.list-manage.com/unsubscribe  \n",
                        "1                                            hvper.com/  \n",
                        "2                            briefingday.com/m/v4n3i4f3  \n",
                        "3              briefingday.com/n/20200618/m#commentform  \n",
                        "4                                   briefingday.com/fan  \n",
                        "...                                                 ...  \n",
                        "2994  smartcitiesworld.net/news/news/deepfake-techno...  \n",
                        "2995                                  youtube.com/watch  \n",
                        "2996  techcrunch.com/2019/07/04/an-optimistic-view-o...  \n",
                        "2997  technologyreview.com/2019/12/20/131462/this-st...  \n",
                        "2998                   bbc.com/news/technology-51018758  \n",
                        "\n",
                        "[2999 rows x 3 columns]\n"
                    ]
                }
            ],
            "source": [
                "print(rawdata)"
            ]
        },
        {
            "cell_type": "code",
            "execution_count": 13,
            "metadata": {},
            "outputs": [],
            "source": [
                "rawdata.drop('url', axis=1, inplace=True)"
            ]
        },
        {
            "cell_type": "code",
            "execution_count": 14,
            "metadata": {},
            "outputs": [],
            "source": [
                "def prosesin(text):\n",
                "    # quedarme con letras y espacios\n",
                "    text = re.sub(r'[^a-z ]', \" \", text)\n",
                "\n",
                "    # saco espacios\n",
                "    text = re.sub(r'\\s+[a-zA-Z]\\s+', \" \", text)\n",
                "    text = re.sub(r'\\^[a-zA-Z]\\s+', \" \", text)\n",
                "\n",
                "    # Reducir espacios en blanco múltiples a uno único\n",
                "    text = re.sub(r'\\s+', \" \", text.lower())\n",
                "\n",
                "    return text.split()\n"
            ]
        },
        {
            "cell_type": "code",
            "execution_count": 15,
            "metadata": {},
            "outputs": [
                {
                    "data": {
                        "text/plain": [
                            "[0       [briefingday, us, list, manage, com, unsubscribe]\n",
                            " 1                                            [hvper, com]\n",
                            " 2                                [briefingday, com, v, i]\n",
                            " 3                      [briefingday, com, m, commentform]\n",
                            " 4                                 [briefingday, com, fan]\n",
                            "                               ...                        \n",
                            " 2994    [smartcitiesworld, net, news, news, deepfake, ...\n",
                            " 2995                                [youtube, com, watch]\n",
                            " 2996    [techcrunch, com, an, optimistic, view, of, de...\n",
                            " 2997    [technologyreview, com, this, startup, claims,...\n",
                            " 2998                         [bbc, com, news, technology]\n",
                            " Name: url_stripped, Length: 2999, dtype: object]"
                        ]
                    },
                    "execution_count": 15,
                    "metadata": {},
                    "output_type": "execute_result"
                }
            ],
            "source": [
                "baf = [rawdata['url_stripped'].apply(prosesin)]\n",
                "baf"
            ]
        },
        {
            "cell_type": "code",
            "execution_count": 16,
            "metadata": {},
            "outputs": [
                {
                    "data": {
                        "text/html": [
                            "<div>\n",
                            "<style scoped>\n",
                            "    .dataframe tbody tr th:only-of-type {\n",
                            "        vertical-align: middle;\n",
                            "    }\n",
                            "\n",
                            "    .dataframe tbody tr th {\n",
                            "        vertical-align: top;\n",
                            "    }\n",
                            "\n",
                            "    .dataframe thead th {\n",
                            "        text-align: right;\n",
                            "    }\n",
                            "</style>\n",
                            "<table border=\"1\" class=\"dataframe\">\n",
                            "  <thead>\n",
                            "    <tr style=\"text-align: right;\">\n",
                            "      <th></th>\n",
                            "      <th>is_spam</th>\n",
                            "      <th>url_stripped</th>\n",
                            "      <th>url_processed</th>\n",
                            "    </tr>\n",
                            "  </thead>\n",
                            "  <tbody>\n",
                            "    <tr>\n",
                            "      <th>0</th>\n",
                            "      <td>1</td>\n",
                            "      <td>briefingday.us8.list-manage.com/unsubscribe</td>\n",
                            "      <td>[briefingday, us, list, manage, com, unsubscribe]</td>\n",
                            "    </tr>\n",
                            "    <tr>\n",
                            "      <th>1</th>\n",
                            "      <td>1</td>\n",
                            "      <td>hvper.com/</td>\n",
                            "      <td>[hvper, com]</td>\n",
                            "    </tr>\n",
                            "    <tr>\n",
                            "      <th>2</th>\n",
                            "      <td>1</td>\n",
                            "      <td>briefingday.com/m/v4n3i4f3</td>\n",
                            "      <td>[briefingday, com, v, i]</td>\n",
                            "    </tr>\n",
                            "    <tr>\n",
                            "      <th>3</th>\n",
                            "      <td>0</td>\n",
                            "      <td>briefingday.com/n/20200618/m#commentform</td>\n",
                            "      <td>[briefingday, com, m, commentform]</td>\n",
                            "    </tr>\n",
                            "    <tr>\n",
                            "      <th>4</th>\n",
                            "      <td>1</td>\n",
                            "      <td>briefingday.com/fan</td>\n",
                            "      <td>[briefingday, com, fan]</td>\n",
                            "    </tr>\n",
                            "  </tbody>\n",
                            "</table>\n",
                            "</div>"
                        ],
                        "text/plain": [
                            "   is_spam                                 url_stripped  \\\n",
                            "0        1  briefingday.us8.list-manage.com/unsubscribe   \n",
                            "1        1                                   hvper.com/   \n",
                            "2        1                   briefingday.com/m/v4n3i4f3   \n",
                            "3        0     briefingday.com/n/20200618/m#commentform   \n",
                            "4        1                          briefingday.com/fan   \n",
                            "\n",
                            "                                       url_processed  \n",
                            "0  [briefingday, us, list, manage, com, unsubscribe]  \n",
                            "1                                       [hvper, com]  \n",
                            "2                           [briefingday, com, v, i]  \n",
                            "3                 [briefingday, com, m, commentform]  \n",
                            "4                            [briefingday, com, fan]  "
                        ]
                    },
                    "execution_count": 16,
                    "metadata": {},
                    "output_type": "execute_result"
                }
            ],
            "source": [
                "rawdata['url_processed'] = rawdata['url_stripped'].apply(prosesin)\n",
                "\n",
                "rawdata.head()"
            ]
        },
        {
            "cell_type": "code",
            "execution_count": 17,
            "metadata": {},
            "outputs": [],
            "source": [
                "rawdata.drop('url_stripped', axis=1, inplace=True)"
            ]
        },
        {
            "cell_type": "code",
            "execution_count": 18,
            "metadata": {},
            "outputs": [
                {
                    "data": {
                        "text/html": [
                            "<div>\n",
                            "<style scoped>\n",
                            "    .dataframe tbody tr th:only-of-type {\n",
                            "        vertical-align: middle;\n",
                            "    }\n",
                            "\n",
                            "    .dataframe tbody tr th {\n",
                            "        vertical-align: top;\n",
                            "    }\n",
                            "\n",
                            "    .dataframe thead th {\n",
                            "        text-align: right;\n",
                            "    }\n",
                            "</style>\n",
                            "<table border=\"1\" class=\"dataframe\">\n",
                            "  <thead>\n",
                            "    <tr style=\"text-align: right;\">\n",
                            "      <th></th>\n",
                            "      <th>is_spam</th>\n",
                            "      <th>url_processed</th>\n",
                            "    </tr>\n",
                            "  </thead>\n",
                            "  <tbody>\n",
                            "    <tr>\n",
                            "      <th>0</th>\n",
                            "      <td>1</td>\n",
                            "      <td>[briefingday, us, list, manage, com, unsubscribe]</td>\n",
                            "    </tr>\n",
                            "    <tr>\n",
                            "      <th>1</th>\n",
                            "      <td>1</td>\n",
                            "      <td>[hvper, com]</td>\n",
                            "    </tr>\n",
                            "    <tr>\n",
                            "      <th>2</th>\n",
                            "      <td>1</td>\n",
                            "      <td>[briefingday, com, v, i]</td>\n",
                            "    </tr>\n",
                            "    <tr>\n",
                            "      <th>3</th>\n",
                            "      <td>0</td>\n",
                            "      <td>[briefingday, com, m, commentform]</td>\n",
                            "    </tr>\n",
                            "    <tr>\n",
                            "      <th>4</th>\n",
                            "      <td>1</td>\n",
                            "      <td>[briefingday, com, fan]</td>\n",
                            "    </tr>\n",
                            "    <tr>\n",
                            "      <th>...</th>\n",
                            "      <td>...</td>\n",
                            "      <td>...</td>\n",
                            "    </tr>\n",
                            "    <tr>\n",
                            "      <th>2994</th>\n",
                            "      <td>0</td>\n",
                            "      <td>[smartcitiesworld, net, news, news, deepfake, ...</td>\n",
                            "    </tr>\n",
                            "    <tr>\n",
                            "      <th>2995</th>\n",
                            "      <td>1</td>\n",
                            "      <td>[youtube, com, watch]</td>\n",
                            "    </tr>\n",
                            "    <tr>\n",
                            "      <th>2996</th>\n",
                            "      <td>0</td>\n",
                            "      <td>[techcrunch, com, an, optimistic, view, of, de...</td>\n",
                            "    </tr>\n",
                            "    <tr>\n",
                            "      <th>2997</th>\n",
                            "      <td>0</td>\n",
                            "      <td>[technologyreview, com, this, startup, claims,...</td>\n",
                            "    </tr>\n",
                            "    <tr>\n",
                            "      <th>2998</th>\n",
                            "      <td>0</td>\n",
                            "      <td>[bbc, com, news, technology]</td>\n",
                            "    </tr>\n",
                            "  </tbody>\n",
                            "</table>\n",
                            "<p>2999 rows × 2 columns</p>\n",
                            "</div>"
                        ],
                        "text/plain": [
                            "      is_spam                                      url_processed\n",
                            "0           1  [briefingday, us, list, manage, com, unsubscribe]\n",
                            "1           1                                       [hvper, com]\n",
                            "2           1                           [briefingday, com, v, i]\n",
                            "3           0                 [briefingday, com, m, commentform]\n",
                            "4           1                            [briefingday, com, fan]\n",
                            "...       ...                                                ...\n",
                            "2994        0  [smartcitiesworld, net, news, news, deepfake, ...\n",
                            "2995        1                              [youtube, com, watch]\n",
                            "2996        0  [techcrunch, com, an, optimistic, view, of, de...\n",
                            "2997        0  [technologyreview, com, this, startup, claims,...\n",
                            "2998        0                       [bbc, com, news, technology]\n",
                            "\n",
                            "[2999 rows x 2 columns]"
                        ]
                    },
                    "execution_count": 18,
                    "metadata": {},
                    "output_type": "execute_result"
                }
            ],
            "source": [
                "rawdata.reset_index()\n",
                "rawdata"
            ]
        },
        {
            "cell_type": "code",
            "execution_count": 19,
            "metadata": {},
            "outputs": [
                {
                    "name": "stderr",
                    "output_type": "stream",
                    "text": [
                        "[nltk_data] Downloading package wordnet to\n",
                        "[nltk_data]     C:\\Users\\34616\\AppData\\Roaming\\nltk_data...\n",
                        "[nltk_data]   Package wordnet is already up-to-date!\n",
                        "[nltk_data] Downloading package stopwords to\n",
                        "[nltk_data]     C:\\Users\\34616\\AppData\\Roaming\\nltk_data...\n",
                        "[nltk_data]   Package stopwords is already up-to-date!\n"
                    ]
                }
            ],
            "source": [
                "download(\"wordnet\")\n",
                "lemmatizer = WordNetLemmatizer()\n",
                "\n",
                "download(\"stopwords\")\n",
                "stop_words = stopwords.words(\"english\")\n",
                "\n",
                "def lemmatize_text(words, lemmatizer = lemmatizer):\n",
                "    # lematisasion\n",
                "    tokens = [lemmatizer.lemmatize(word) for word in words]\n",
                "    # fuera stop words\n",
                "    tokens = [word for word in tokens if word not in stop_words]\n",
                "\n",
                "    # eliminar palabras chiquitas\n",
                "    tokens = [word for word in tokens if len(word) >= 3]\n",
                "\n",
                "    return tokens\n",
                "\n",
                "\n",
                "\n"
            ]
        },
        {
            "cell_type": "code",
            "execution_count": 20,
            "metadata": {},
            "outputs": [
                {
                    "data": {
                        "text/html": [
                            "<div>\n",
                            "<style scoped>\n",
                            "    .dataframe tbody tr th:only-of-type {\n",
                            "        vertical-align: middle;\n",
                            "    }\n",
                            "\n",
                            "    .dataframe tbody tr th {\n",
                            "        vertical-align: top;\n",
                            "    }\n",
                            "\n",
                            "    .dataframe thead th {\n",
                            "        text-align: right;\n",
                            "    }\n",
                            "</style>\n",
                            "<table border=\"1\" class=\"dataframe\">\n",
                            "  <thead>\n",
                            "    <tr style=\"text-align: right;\">\n",
                            "      <th></th>\n",
                            "      <th>is_spam</th>\n",
                            "      <th>url_processed</th>\n",
                            "    </tr>\n",
                            "  </thead>\n",
                            "  <tbody>\n",
                            "    <tr>\n",
                            "      <th>0</th>\n",
                            "      <td>1</td>\n",
                            "      <td>[briefingday, list, manage, com, unsubscribe]</td>\n",
                            "    </tr>\n",
                            "    <tr>\n",
                            "      <th>1</th>\n",
                            "      <td>1</td>\n",
                            "      <td>[hvper, com]</td>\n",
                            "    </tr>\n",
                            "    <tr>\n",
                            "      <th>2</th>\n",
                            "      <td>1</td>\n",
                            "      <td>[briefingday, com]</td>\n",
                            "    </tr>\n",
                            "    <tr>\n",
                            "      <th>3</th>\n",
                            "      <td>0</td>\n",
                            "      <td>[briefingday, com, commentform]</td>\n",
                            "    </tr>\n",
                            "    <tr>\n",
                            "      <th>4</th>\n",
                            "      <td>1</td>\n",
                            "      <td>[briefingday, com, fan]</td>\n",
                            "    </tr>\n",
                            "    <tr>\n",
                            "      <th>...</th>\n",
                            "      <td>...</td>\n",
                            "      <td>...</td>\n",
                            "    </tr>\n",
                            "    <tr>\n",
                            "      <th>2994</th>\n",
                            "      <td>0</td>\n",
                            "      <td>[smartcitiesworld, net, news, news, deepfake, ...</td>\n",
                            "    </tr>\n",
                            "    <tr>\n",
                            "      <th>2995</th>\n",
                            "      <td>1</td>\n",
                            "      <td>[youtube, com, watch]</td>\n",
                            "    </tr>\n",
                            "    <tr>\n",
                            "      <th>2996</th>\n",
                            "      <td>0</td>\n",
                            "      <td>[techcrunch, com, optimistic, view, deepfakes]</td>\n",
                            "    </tr>\n",
                            "    <tr>\n",
                            "      <th>2997</th>\n",
                            "      <td>0</td>\n",
                            "      <td>[technologyreview, com, startup, claim, deepfa...</td>\n",
                            "    </tr>\n",
                            "    <tr>\n",
                            "      <th>2998</th>\n",
                            "      <td>0</td>\n",
                            "      <td>[bbc, com, news, technology]</td>\n",
                            "    </tr>\n",
                            "  </tbody>\n",
                            "</table>\n",
                            "<p>2999 rows × 2 columns</p>\n",
                            "</div>"
                        ],
                        "text/plain": [
                            "      is_spam                                      url_processed\n",
                            "0           1      [briefingday, list, manage, com, unsubscribe]\n",
                            "1           1                                       [hvper, com]\n",
                            "2           1                                 [briefingday, com]\n",
                            "3           0                    [briefingday, com, commentform]\n",
                            "4           1                            [briefingday, com, fan]\n",
                            "...       ...                                                ...\n",
                            "2994        0  [smartcitiesworld, net, news, news, deepfake, ...\n",
                            "2995        1                              [youtube, com, watch]\n",
                            "2996        0     [techcrunch, com, optimistic, view, deepfakes]\n",
                            "2997        0  [technologyreview, com, startup, claim, deepfa...\n",
                            "2998        0                       [bbc, com, news, technology]\n",
                            "\n",
                            "[2999 rows x 2 columns]"
                        ]
                    },
                    "execution_count": 20,
                    "metadata": {},
                    "output_type": "execute_result"
                }
            ],
            "source": [
                "df = rawdata\n",
                "\n",
                "df['url_processed'] = df['url_processed'].apply(lemmatize_text)\n",
                "\n",
                "df"
            ]
        },
        {
            "cell_type": "code",
            "execution_count": 21,
            "metadata": {},
            "outputs": [
                {
                    "data": {
                        "text/plain": [
                            "array([[0., 0., 0., ..., 0., 0., 0.],\n",
                            "       [0., 0., 0., ..., 0., 0., 0.],\n",
                            "       [0., 0., 0., ..., 0., 0., 0.],\n",
                            "       [0., 0., 0., ..., 0., 0., 0.],\n",
                            "       [0., 0., 0., ..., 0., 0., 0.]])"
                        ]
                    },
                    "execution_count": 21,
                    "metadata": {},
                    "output_type": "execute_result"
                }
            ],
            "source": [
                "from sklearn.feature_extraction.text import TfidfVectorizer\n",
                "\n",
                "token_list = df['url_processed']\n",
                "token_list = [\" \".join(token) for token in token_list]\n",
                "\n",
                "vect = TfidfVectorizer(max_features = 5000, max_df = 0.6, min_df = 5)\n",
                "\n",
                "X = vect.fit_transform(token_list).toarray()\n",
                "y = df['is_spam']\n",
                "\n",
                "X[:5]"
            ]
        },
        {
            "cell_type": "code",
            "execution_count": 22,
            "metadata": {},
            "outputs": [],
            "source": [
                "X_train, X_test, y_train, y_test = train_test_split(X, y, test_size = 0.2, random_state = 21)\n"
            ]
        },
        {
            "cell_type": "code",
            "execution_count": 23,
            "metadata": {},
            "outputs": [
                {
                    "data": {
                        "text/html": [
                            "<style>#sk-container-id-1 {\n",
                            "  /* Definition of color scheme common for light and dark mode */\n",
                            "  --sklearn-color-text: black;\n",
                            "  --sklearn-color-line: gray;\n",
                            "  /* Definition of color scheme for unfitted estimators */\n",
                            "  --sklearn-color-unfitted-level-0: #fff5e6;\n",
                            "  --sklearn-color-unfitted-level-1: #f6e4d2;\n",
                            "  --sklearn-color-unfitted-level-2: #ffe0b3;\n",
                            "  --sklearn-color-unfitted-level-3: chocolate;\n",
                            "  /* Definition of color scheme for fitted estimators */\n",
                            "  --sklearn-color-fitted-level-0: #f0f8ff;\n",
                            "  --sklearn-color-fitted-level-1: #d4ebff;\n",
                            "  --sklearn-color-fitted-level-2: #b3dbfd;\n",
                            "  --sklearn-color-fitted-level-3: cornflowerblue;\n",
                            "\n",
                            "  /* Specific color for light theme */\n",
                            "  --sklearn-color-text-on-default-background: var(--sg-text-color, var(--theme-code-foreground, var(--jp-content-font-color1, black)));\n",
                            "  --sklearn-color-background: var(--sg-background-color, var(--theme-background, var(--jp-layout-color0, white)));\n",
                            "  --sklearn-color-border-box: var(--sg-text-color, var(--theme-code-foreground, var(--jp-content-font-color1, black)));\n",
                            "  --sklearn-color-icon: #696969;\n",
                            "\n",
                            "  @media (prefers-color-scheme: dark) {\n",
                            "    /* Redefinition of color scheme for dark theme */\n",
                            "    --sklearn-color-text-on-default-background: var(--sg-text-color, var(--theme-code-foreground, var(--jp-content-font-color1, white)));\n",
                            "    --sklearn-color-background: var(--sg-background-color, var(--theme-background, var(--jp-layout-color0, #111)));\n",
                            "    --sklearn-color-border-box: var(--sg-text-color, var(--theme-code-foreground, var(--jp-content-font-color1, white)));\n",
                            "    --sklearn-color-icon: #878787;\n",
                            "  }\n",
                            "}\n",
                            "\n",
                            "#sk-container-id-1 {\n",
                            "  color: var(--sklearn-color-text);\n",
                            "}\n",
                            "\n",
                            "#sk-container-id-1 pre {\n",
                            "  padding: 0;\n",
                            "}\n",
                            "\n",
                            "#sk-container-id-1 input.sk-hidden--visually {\n",
                            "  border: 0;\n",
                            "  clip: rect(1px 1px 1px 1px);\n",
                            "  clip: rect(1px, 1px, 1px, 1px);\n",
                            "  height: 1px;\n",
                            "  margin: -1px;\n",
                            "  overflow: hidden;\n",
                            "  padding: 0;\n",
                            "  position: absolute;\n",
                            "  width: 1px;\n",
                            "}\n",
                            "\n",
                            "#sk-container-id-1 div.sk-dashed-wrapped {\n",
                            "  border: 1px dashed var(--sklearn-color-line);\n",
                            "  margin: 0 0.4em 0.5em 0.4em;\n",
                            "  box-sizing: border-box;\n",
                            "  padding-bottom: 0.4em;\n",
                            "  background-color: var(--sklearn-color-background);\n",
                            "}\n",
                            "\n",
                            "#sk-container-id-1 div.sk-container {\n",
                            "  /* jupyter's `normalize.less` sets `[hidden] { display: none; }`\n",
                            "     but bootstrap.min.css set `[hidden] { display: none !important; }`\n",
                            "     so we also need the `!important` here to be able to override the\n",
                            "     default hidden behavior on the sphinx rendered scikit-learn.org.\n",
                            "     See: https://github.com/scikit-learn/scikit-learn/issues/21755 */\n",
                            "  display: inline-block !important;\n",
                            "  position: relative;\n",
                            "}\n",
                            "\n",
                            "#sk-container-id-1 div.sk-text-repr-fallback {\n",
                            "  display: none;\n",
                            "}\n",
                            "\n",
                            "div.sk-parallel-item,\n",
                            "div.sk-serial,\n",
                            "div.sk-item {\n",
                            "  /* draw centered vertical line to link estimators */\n",
                            "  background-image: linear-gradient(var(--sklearn-color-text-on-default-background), var(--sklearn-color-text-on-default-background));\n",
                            "  background-size: 2px 100%;\n",
                            "  background-repeat: no-repeat;\n",
                            "  background-position: center center;\n",
                            "}\n",
                            "\n",
                            "/* Parallel-specific style estimator block */\n",
                            "\n",
                            "#sk-container-id-1 div.sk-parallel-item::after {\n",
                            "  content: \"\";\n",
                            "  width: 100%;\n",
                            "  border-bottom: 2px solid var(--sklearn-color-text-on-default-background);\n",
                            "  flex-grow: 1;\n",
                            "}\n",
                            "\n",
                            "#sk-container-id-1 div.sk-parallel {\n",
                            "  display: flex;\n",
                            "  align-items: stretch;\n",
                            "  justify-content: center;\n",
                            "  background-color: var(--sklearn-color-background);\n",
                            "  position: relative;\n",
                            "}\n",
                            "\n",
                            "#sk-container-id-1 div.sk-parallel-item {\n",
                            "  display: flex;\n",
                            "  flex-direction: column;\n",
                            "}\n",
                            "\n",
                            "#sk-container-id-1 div.sk-parallel-item:first-child::after {\n",
                            "  align-self: flex-end;\n",
                            "  width: 50%;\n",
                            "}\n",
                            "\n",
                            "#sk-container-id-1 div.sk-parallel-item:last-child::after {\n",
                            "  align-self: flex-start;\n",
                            "  width: 50%;\n",
                            "}\n",
                            "\n",
                            "#sk-container-id-1 div.sk-parallel-item:only-child::after {\n",
                            "  width: 0;\n",
                            "}\n",
                            "\n",
                            "/* Serial-specific style estimator block */\n",
                            "\n",
                            "#sk-container-id-1 div.sk-serial {\n",
                            "  display: flex;\n",
                            "  flex-direction: column;\n",
                            "  align-items: center;\n",
                            "  background-color: var(--sklearn-color-background);\n",
                            "  padding-right: 1em;\n",
                            "  padding-left: 1em;\n",
                            "}\n",
                            "\n",
                            "\n",
                            "/* Toggleable style: style used for estimator/Pipeline/ColumnTransformer box that is\n",
                            "clickable and can be expanded/collapsed.\n",
                            "- Pipeline and ColumnTransformer use this feature and define the default style\n",
                            "- Estimators will overwrite some part of the style using the `sk-estimator` class\n",
                            "*/\n",
                            "\n",
                            "/* Pipeline and ColumnTransformer style (default) */\n",
                            "\n",
                            "#sk-container-id-1 div.sk-toggleable {\n",
                            "  /* Default theme specific background. It is overwritten whether we have a\n",
                            "  specific estimator or a Pipeline/ColumnTransformer */\n",
                            "  background-color: var(--sklearn-color-background);\n",
                            "}\n",
                            "\n",
                            "/* Toggleable label */\n",
                            "#sk-container-id-1 label.sk-toggleable__label {\n",
                            "  cursor: pointer;\n",
                            "  display: block;\n",
                            "  width: 100%;\n",
                            "  margin-bottom: 0;\n",
                            "  padding: 0.5em;\n",
                            "  box-sizing: border-box;\n",
                            "  text-align: center;\n",
                            "}\n",
                            "\n",
                            "#sk-container-id-1 label.sk-toggleable__label-arrow:before {\n",
                            "  /* Arrow on the left of the label */\n",
                            "  content: \"▸\";\n",
                            "  float: left;\n",
                            "  margin-right: 0.25em;\n",
                            "  color: var(--sklearn-color-icon);\n",
                            "}\n",
                            "\n",
                            "#sk-container-id-1 label.sk-toggleable__label-arrow:hover:before {\n",
                            "  color: var(--sklearn-color-text);\n",
                            "}\n",
                            "\n",
                            "/* Toggleable content - dropdown */\n",
                            "\n",
                            "#sk-container-id-1 div.sk-toggleable__content {\n",
                            "  max-height: 0;\n",
                            "  max-width: 0;\n",
                            "  overflow: hidden;\n",
                            "  text-align: left;\n",
                            "  /* unfitted */\n",
                            "  background-color: var(--sklearn-color-unfitted-level-0);\n",
                            "}\n",
                            "\n",
                            "#sk-container-id-1 div.sk-toggleable__content.fitted {\n",
                            "  /* fitted */\n",
                            "  background-color: var(--sklearn-color-fitted-level-0);\n",
                            "}\n",
                            "\n",
                            "#sk-container-id-1 div.sk-toggleable__content pre {\n",
                            "  margin: 0.2em;\n",
                            "  border-radius: 0.25em;\n",
                            "  color: var(--sklearn-color-text);\n",
                            "  /* unfitted */\n",
                            "  background-color: var(--sklearn-color-unfitted-level-0);\n",
                            "}\n",
                            "\n",
                            "#sk-container-id-1 div.sk-toggleable__content.fitted pre {\n",
                            "  /* unfitted */\n",
                            "  background-color: var(--sklearn-color-fitted-level-0);\n",
                            "}\n",
                            "\n",
                            "#sk-container-id-1 input.sk-toggleable__control:checked~div.sk-toggleable__content {\n",
                            "  /* Expand drop-down */\n",
                            "  max-height: 200px;\n",
                            "  max-width: 100%;\n",
                            "  overflow: auto;\n",
                            "}\n",
                            "\n",
                            "#sk-container-id-1 input.sk-toggleable__control:checked~label.sk-toggleable__label-arrow:before {\n",
                            "  content: \"▾\";\n",
                            "}\n",
                            "\n",
                            "/* Pipeline/ColumnTransformer-specific style */\n",
                            "\n",
                            "#sk-container-id-1 div.sk-label input.sk-toggleable__control:checked~label.sk-toggleable__label {\n",
                            "  color: var(--sklearn-color-text);\n",
                            "  background-color: var(--sklearn-color-unfitted-level-2);\n",
                            "}\n",
                            "\n",
                            "#sk-container-id-1 div.sk-label.fitted input.sk-toggleable__control:checked~label.sk-toggleable__label {\n",
                            "  background-color: var(--sklearn-color-fitted-level-2);\n",
                            "}\n",
                            "\n",
                            "/* Estimator-specific style */\n",
                            "\n",
                            "/* Colorize estimator box */\n",
                            "#sk-container-id-1 div.sk-estimator input.sk-toggleable__control:checked~label.sk-toggleable__label {\n",
                            "  /* unfitted */\n",
                            "  background-color: var(--sklearn-color-unfitted-level-2);\n",
                            "}\n",
                            "\n",
                            "#sk-container-id-1 div.sk-estimator.fitted input.sk-toggleable__control:checked~label.sk-toggleable__label {\n",
                            "  /* fitted */\n",
                            "  background-color: var(--sklearn-color-fitted-level-2);\n",
                            "}\n",
                            "\n",
                            "#sk-container-id-1 div.sk-label label.sk-toggleable__label,\n",
                            "#sk-container-id-1 div.sk-label label {\n",
                            "  /* The background is the default theme color */\n",
                            "  color: var(--sklearn-color-text-on-default-background);\n",
                            "}\n",
                            "\n",
                            "/* On hover, darken the color of the background */\n",
                            "#sk-container-id-1 div.sk-label:hover label.sk-toggleable__label {\n",
                            "  color: var(--sklearn-color-text);\n",
                            "  background-color: var(--sklearn-color-unfitted-level-2);\n",
                            "}\n",
                            "\n",
                            "/* Label box, darken color on hover, fitted */\n",
                            "#sk-container-id-1 div.sk-label.fitted:hover label.sk-toggleable__label.fitted {\n",
                            "  color: var(--sklearn-color-text);\n",
                            "  background-color: var(--sklearn-color-fitted-level-2);\n",
                            "}\n",
                            "\n",
                            "/* Estimator label */\n",
                            "\n",
                            "#sk-container-id-1 div.sk-label label {\n",
                            "  font-family: monospace;\n",
                            "  font-weight: bold;\n",
                            "  display: inline-block;\n",
                            "  line-height: 1.2em;\n",
                            "}\n",
                            "\n",
                            "#sk-container-id-1 div.sk-label-container {\n",
                            "  text-align: center;\n",
                            "}\n",
                            "\n",
                            "/* Estimator-specific */\n",
                            "#sk-container-id-1 div.sk-estimator {\n",
                            "  font-family: monospace;\n",
                            "  border: 1px dotted var(--sklearn-color-border-box);\n",
                            "  border-radius: 0.25em;\n",
                            "  box-sizing: border-box;\n",
                            "  margin-bottom: 0.5em;\n",
                            "  /* unfitted */\n",
                            "  background-color: var(--sklearn-color-unfitted-level-0);\n",
                            "}\n",
                            "\n",
                            "#sk-container-id-1 div.sk-estimator.fitted {\n",
                            "  /* fitted */\n",
                            "  background-color: var(--sklearn-color-fitted-level-0);\n",
                            "}\n",
                            "\n",
                            "/* on hover */\n",
                            "#sk-container-id-1 div.sk-estimator:hover {\n",
                            "  /* unfitted */\n",
                            "  background-color: var(--sklearn-color-unfitted-level-2);\n",
                            "}\n",
                            "\n",
                            "#sk-container-id-1 div.sk-estimator.fitted:hover {\n",
                            "  /* fitted */\n",
                            "  background-color: var(--sklearn-color-fitted-level-2);\n",
                            "}\n",
                            "\n",
                            "/* Specification for estimator info (e.g. \"i\" and \"?\") */\n",
                            "\n",
                            "/* Common style for \"i\" and \"?\" */\n",
                            "\n",
                            ".sk-estimator-doc-link,\n",
                            "a:link.sk-estimator-doc-link,\n",
                            "a:visited.sk-estimator-doc-link {\n",
                            "  float: right;\n",
                            "  font-size: smaller;\n",
                            "  line-height: 1em;\n",
                            "  font-family: monospace;\n",
                            "  background-color: var(--sklearn-color-background);\n",
                            "  border-radius: 1em;\n",
                            "  height: 1em;\n",
                            "  width: 1em;\n",
                            "  text-decoration: none !important;\n",
                            "  margin-left: 1ex;\n",
                            "  /* unfitted */\n",
                            "  border: var(--sklearn-color-unfitted-level-1) 1pt solid;\n",
                            "  color: var(--sklearn-color-unfitted-level-1);\n",
                            "}\n",
                            "\n",
                            ".sk-estimator-doc-link.fitted,\n",
                            "a:link.sk-estimator-doc-link.fitted,\n",
                            "a:visited.sk-estimator-doc-link.fitted {\n",
                            "  /* fitted */\n",
                            "  border: var(--sklearn-color-fitted-level-1) 1pt solid;\n",
                            "  color: var(--sklearn-color-fitted-level-1);\n",
                            "}\n",
                            "\n",
                            "/* On hover */\n",
                            "div.sk-estimator:hover .sk-estimator-doc-link:hover,\n",
                            ".sk-estimator-doc-link:hover,\n",
                            "div.sk-label-container:hover .sk-estimator-doc-link:hover,\n",
                            ".sk-estimator-doc-link:hover {\n",
                            "  /* unfitted */\n",
                            "  background-color: var(--sklearn-color-unfitted-level-3);\n",
                            "  color: var(--sklearn-color-background);\n",
                            "  text-decoration: none;\n",
                            "}\n",
                            "\n",
                            "div.sk-estimator.fitted:hover .sk-estimator-doc-link.fitted:hover,\n",
                            ".sk-estimator-doc-link.fitted:hover,\n",
                            "div.sk-label-container:hover .sk-estimator-doc-link.fitted:hover,\n",
                            ".sk-estimator-doc-link.fitted:hover {\n",
                            "  /* fitted */\n",
                            "  background-color: var(--sklearn-color-fitted-level-3);\n",
                            "  color: var(--sklearn-color-background);\n",
                            "  text-decoration: none;\n",
                            "}\n",
                            "\n",
                            "/* Span, style for the box shown on hovering the info icon */\n",
                            ".sk-estimator-doc-link span {\n",
                            "  display: none;\n",
                            "  z-index: 9999;\n",
                            "  position: relative;\n",
                            "  font-weight: normal;\n",
                            "  right: .2ex;\n",
                            "  padding: .5ex;\n",
                            "  margin: .5ex;\n",
                            "  width: min-content;\n",
                            "  min-width: 20ex;\n",
                            "  max-width: 50ex;\n",
                            "  color: var(--sklearn-color-text);\n",
                            "  box-shadow: 2pt 2pt 4pt #999;\n",
                            "  /* unfitted */\n",
                            "  background: var(--sklearn-color-unfitted-level-0);\n",
                            "  border: .5pt solid var(--sklearn-color-unfitted-level-3);\n",
                            "}\n",
                            "\n",
                            ".sk-estimator-doc-link.fitted span {\n",
                            "  /* fitted */\n",
                            "  background: var(--sklearn-color-fitted-level-0);\n",
                            "  border: var(--sklearn-color-fitted-level-3);\n",
                            "}\n",
                            "\n",
                            ".sk-estimator-doc-link:hover span {\n",
                            "  display: block;\n",
                            "}\n",
                            "\n",
                            "/* \"?\"-specific style due to the `<a>` HTML tag */\n",
                            "\n",
                            "#sk-container-id-1 a.estimator_doc_link {\n",
                            "  float: right;\n",
                            "  font-size: 1rem;\n",
                            "  line-height: 1em;\n",
                            "  font-family: monospace;\n",
                            "  background-color: var(--sklearn-color-background);\n",
                            "  border-radius: 1rem;\n",
                            "  height: 1rem;\n",
                            "  width: 1rem;\n",
                            "  text-decoration: none;\n",
                            "  /* unfitted */\n",
                            "  color: var(--sklearn-color-unfitted-level-1);\n",
                            "  border: var(--sklearn-color-unfitted-level-1) 1pt solid;\n",
                            "}\n",
                            "\n",
                            "#sk-container-id-1 a.estimator_doc_link.fitted {\n",
                            "  /* fitted */\n",
                            "  border: var(--sklearn-color-fitted-level-1) 1pt solid;\n",
                            "  color: var(--sklearn-color-fitted-level-1);\n",
                            "}\n",
                            "\n",
                            "/* On hover */\n",
                            "#sk-container-id-1 a.estimator_doc_link:hover {\n",
                            "  /* unfitted */\n",
                            "  background-color: var(--sklearn-color-unfitted-level-3);\n",
                            "  color: var(--sklearn-color-background);\n",
                            "  text-decoration: none;\n",
                            "}\n",
                            "\n",
                            "#sk-container-id-1 a.estimator_doc_link.fitted:hover {\n",
                            "  /* fitted */\n",
                            "  background-color: var(--sklearn-color-fitted-level-3);\n",
                            "}\n",
                            "</style><div id=\"sk-container-id-1\" class=\"sk-top-container\"><div class=\"sk-text-repr-fallback\"><pre>SVC(kernel=&#x27;linear&#x27;, random_state=21)</pre><b>In a Jupyter environment, please rerun this cell to show the HTML representation or trust the notebook. <br />On GitHub, the HTML representation is unable to render, please try loading this page with nbviewer.org.</b></div><div class=\"sk-container\" hidden><div class=\"sk-item\"><div class=\"sk-estimator fitted sk-toggleable\"><input class=\"sk-toggleable__control sk-hidden--visually\" id=\"sk-estimator-id-1\" type=\"checkbox\" checked><label for=\"sk-estimator-id-1\" class=\"sk-toggleable__label fitted sk-toggleable__label-arrow fitted\">&nbsp;&nbsp;SVC<a class=\"sk-estimator-doc-link fitted\" rel=\"noreferrer\" target=\"_blank\" href=\"https://scikit-learn.org/1.5/modules/generated/sklearn.svm.SVC.html\">?<span>Documentation for SVC</span></a><span class=\"sk-estimator-doc-link fitted\">i<span>Fitted</span></span></label><div class=\"sk-toggleable__content fitted\"><pre>SVC(kernel=&#x27;linear&#x27;, random_state=21)</pre></div> </div></div></div></div>"
                        ],
                        "text/plain": [
                            "SVC(kernel='linear', random_state=21)"
                        ]
                    },
                    "execution_count": 23,
                    "metadata": {},
                    "output_type": "execute_result"
                }
            ],
            "source": [
                "model = SVC(kernel = \"linear\", random_state = 21)\n",
                "\n",
                "model.fit(X_train, y_train)"
            ]
        },
        {
            "cell_type": "code",
            "execution_count": 24,
            "metadata": {},
            "outputs": [
                {
                    "data": {
                        "text/plain": [
                            "array([1, 0, 0, 0, 0, 0, 0, 0, 0, 1])"
                        ]
                    },
                    "execution_count": 24,
                    "metadata": {},
                    "output_type": "execute_result"
                }
            ],
            "source": [
                "y_pred = model.predict(X_test)\n",
                "y_pred[:10]"
            ]
        },
        {
            "cell_type": "code",
            "execution_count": 25,
            "metadata": {},
            "outputs": [
                {
                    "data": {
                        "text/plain": [
                            "0.9266666666666666"
                        ]
                    },
                    "execution_count": 25,
                    "metadata": {},
                    "output_type": "execute_result"
                }
            ],
            "source": [
                "accuracy_score(y_test, y_pred)"
            ]
        },
        {
            "cell_type": "code",
            "execution_count": 26,
            "metadata": {},
            "outputs": [],
            "source": [
                "def check_for_spam():\n",
                "    # pido al usuario una url\n",
                "    new_url = str(input(\"Introduce una url para checkear si es spam: \"))\n",
                "\n",
                "    # proceso el texto de la url como antes\n",
                "    url = prosesin(new_url)\n",
                "    url = lemmatize_text(url, lemmatizer)\n",
                "    url = \" \".join(url)\n",
                "\n",
                "    # vectorizamos la url\n",
                "    vect_url = vect.transform([url]).toarray()\n",
                "\n",
                "    # predecimos si es spam o no:\n",
                "    prediction = model.predict(vect_url)\n",
                "\n",
                "    if prediction == 0:\n",
                "        print(\"Limpito de spam mi rey\")\n",
                "    elif prediction == 1:\n",
                "        print(\"Eso huele a spam mi rey\")"
            ]
        },
        {
            "cell_type": "code",
            "execution_count": 27,
            "metadata": {},
            "outputs": [
                {
                    "name": "stdout",
                    "output_type": "stream",
                    "text": [
                        "Limpito de spam mi rey\n"
                    ]
                }
            ],
            "source": [
                "check_for_spam()"
            ]
        },
        {
            "cell_type": "markdown",
            "metadata": {},
            "source": [
                "#### optimizació"
            ]
        },
        {
            "cell_type": "code",
            "execution_count": 35,
            "metadata": {},
            "outputs": [
                {
                    "name": "stdout",
                    "output_type": "stream",
                    "text": [
                        "Best hyperparameters: {'C': 10, 'gamma': 'scale', 'kernel': 'poly', 'random_state': 21}\n"
                    ]
                }
            ],
            "source": [
                "from sklearn.model_selection import GridSearchCV\n",
                "\n",
                "model_base = SVC()\n",
                "\n",
                "hyperparameters = {'kernel': [\"linear\", \"rbf\", \"poly\"], \n",
                "                   'C': [1, 10, 100, 1000], \n",
                "                   'gamma': [\"scale\", \"auto\"], \n",
                "                   'random_state': [21]\n",
                "}\n",
                "\n",
                "grid = GridSearchCV(model_base, hyperparameters, cv=5, scoring='accuracy', n_jobs=4)\n",
                "\n",
                "grid.fit(X_train, y_train)\n",
                "best_params = grid.best_params_\n",
                "print(f\"Best hyperparameters: {grid.best_params_}\")"
            ]
        },
        {
            "cell_type": "code",
            "execution_count": 36,
            "metadata": {},
            "outputs": [
                {
                    "data": {
                        "text/plain": [
                            "array([1, 0, 0, 0, 0, 0, 0, 0, 0, 1])"
                        ]
                    },
                    "execution_count": 36,
                    "metadata": {},
                    "output_type": "execute_result"
                }
            ],
            "source": [
                "# runneando la optimisasió\n",
                "\n",
                "model_opt1 = SVC(**best_params)\n",
                "model_opt1.fit(X_train, y_train)\n",
                "\n",
                "y_pred_opt1 = model_opt1.predict(X_test)\n",
                "y_pred_train_opt1 = model_opt1.predict(X_train)\n",
                "\n",
                "\n",
                "y_pred_opt1[:10]"
            ]
        },
        {
            "cell_type": "code",
            "execution_count": 38,
            "metadata": {},
            "outputs": [
                {
                    "name": "stdout",
                    "output_type": "stream",
                    "text": [
                        "Test Score: \n",
                        "Accuracy Test:  0.9516666666666667\n",
                        "F1 score Test:  0.8953068592057761\n",
                        "Precision Test:  0.9117647058823529\n",
                        "Recall Test:  0.8794326241134752\n",
                        "\n",
                        "Train Score: \n",
                        "Accuracy Train:  0.9699874947894956\n",
                        "F1 score Train:  0.9343065693430657\n",
                        "Precision Train:  0.9463955637707948\n",
                        "Recall Train:  0.9225225225225225\n",
                        "\n",
                        "Model 1: \n",
                        "\n",
                        "              precision    recall  f1-score   support\n",
                        "\n",
                        "     No Spam       0.96      0.97      0.97       459\n",
                        "        Spam       0.91      0.88      0.90       141\n",
                        "\n",
                        "    accuracy                           0.95       600\n",
                        "   macro avg       0.94      0.93      0.93       600\n",
                        "weighted avg       0.95      0.95      0.95       600\n",
                        "\n"
                    ]
                }
            ],
            "source": [
                "from sklearn.metrics import accuracy_score\n",
                "from sklearn.metrics import f1_score\n",
                "from sklearn.metrics import precision_score\n",
                "from sklearn.metrics import recall_score\n",
                "from sklearn.metrics import classification_report\n",
                "\n",
                "accuracy_test = accuracy_score(y_test, y_pred_opt1)\n",
                "accuracy_train = accuracy_score(y_train, y_pred_train_opt1)\n",
                "\n",
                "f1_score_test = f1_score(y_test, y_pred_opt1)\n",
                "f1_score_train = f1_score(y_train, y_pred_train_opt1)\n",
                "\n",
                "precision_test = precision_score(y_test, y_pred_opt1)\n",
                "precision_train = precision_score(y_train, y_pred_train_opt1)\n",
                "\n",
                "recall_test = recall_score(y_test, y_pred_opt1)\n",
                "recall_train = recall_score(y_train, y_pred_train_opt1)\n",
                "\n",
                "print(\"Test Score: \")\n",
                "print(\"Accuracy Test: \", accuracy_test)\n",
                "print(\"F1 score Test: \", f1_score_test)\n",
                "print(\"Precision Test: \", precision_test)\n",
                "print(\"Recall Test: \", recall_test)\n",
                "print(\"\")\n",
                "print(\"Train Score: \")\n",
                "print(\"Accuracy Train: \", accuracy_train)\n",
                "print(\"F1 score Train: \", f1_score_train)\n",
                "print(\"Precision Train: \", precision_train)\n",
                "print(\"Recall Train: \", recall_train)\n",
                "\n",
                "print(\"\")\n",
                "print(\"Model 1: \")\n",
                "print(\"\")\n",
                "print(classification_report(y_test, y_pred_opt1, target_names=[\"No Spam\", \"Spam\"]))"
            ]
        },
        {
            "cell_type": "markdown",
            "metadata": {},
            "source": [
                "# resampling"
            ]
        },
        {
            "cell_type": "code",
            "execution_count": 41,
            "metadata": {},
            "outputs": [
                {
                    "name": "stdout",
                    "output_type": "stream",
                    "text": [
                        "counter train: \n",
                        "Counter({1: 1845, 0: 1839})\n",
                        "counter test:\n",
                        "Counter({0: 464, 1: 458})\n"
                    ]
                }
            ],
            "source": [
                "from imblearn.over_sampling import SMOTE \n",
                "from collections import Counter\n",
                "\n",
                "oversample = SMOTE(random_state=21) \n",
                "X_res, y_res = oversample.fit_resample(X, y)\n",
                "\n",
                "X_train, X_test, y_train, y_test = train_test_split(X_res, y_res, test_size=0.2, random_state=21)\n",
                "counter_train = Counter(y_train)\n",
                "print(\"counter train: \")\n",
                "print(counter_train)\n",
                "counter_test = Counter(y_test)\n",
                "print(\"counter test:\")\n",
                "print(counter_test)"
            ]
        },
        {
            "cell_type": "code",
            "execution_count": 42,
            "metadata": {},
            "outputs": [
                {
                    "data": {
                        "text/plain": [
                            "array([1, 0, 1, 1, 1, 0, 0, 0, 0, 1])"
                        ]
                    },
                    "execution_count": 42,
                    "metadata": {},
                    "output_type": "execute_result"
                }
            ],
            "source": [
                "# runneando la optimisasió\n",
                "\n",
                "model_opt1 = SVC(**best_params)\n",
                "model_opt1.fit(X_train, y_train)\n",
                "\n",
                "y_pred_opt1 = model_opt1.predict(X_test)\n",
                "y_pred_train_opt1 = model_opt1.predict(X_train)\n",
                "\n",
                "\n",
                "y_pred_opt1[:10]"
            ]
        },
        {
            "cell_type": "code",
            "execution_count": 43,
            "metadata": {},
            "outputs": [
                {
                    "name": "stdout",
                    "output_type": "stream",
                    "text": [
                        "Test Score: \n",
                        "Accuracy Test:  0.9370932754880694\n",
                        "F1 score Test:  0.9361233480176211\n",
                        "Precision Test:  0.9444444444444444\n",
                        "Recall Test:  0.9279475982532751\n",
                        "\n",
                        "Train Score: \n",
                        "Accuracy Train:  0.9508686210640608\n",
                        "F1 score Train:  0.9499585291678186\n",
                        "Precision Train:  0.9695259593679458\n",
                        "Recall Train:  0.9311653116531166\n",
                        "\n",
                        "Model 1: \n",
                        "\n",
                        "              precision    recall  f1-score   support\n",
                        "\n",
                        "     No Spam       0.93      0.95      0.94       464\n",
                        "        Spam       0.94      0.93      0.94       458\n",
                        "\n",
                        "    accuracy                           0.94       922\n",
                        "   macro avg       0.94      0.94      0.94       922\n",
                        "weighted avg       0.94      0.94      0.94       922\n",
                        "\n"
                    ]
                }
            ],
            "source": [
                "from sklearn.metrics import accuracy_score\n",
                "from sklearn.metrics import f1_score\n",
                "from sklearn.metrics import precision_score\n",
                "from sklearn.metrics import recall_score\n",
                "from sklearn.metrics import classification_report\n",
                "\n",
                "accuracy_test = accuracy_score(y_test, y_pred_opt1)\n",
                "accuracy_train = accuracy_score(y_train, y_pred_train_opt1)\n",
                "\n",
                "f1_score_test = f1_score(y_test, y_pred_opt1)\n",
                "f1_score_train = f1_score(y_train, y_pred_train_opt1)\n",
                "\n",
                "precision_test = precision_score(y_test, y_pred_opt1)\n",
                "precision_train = precision_score(y_train, y_pred_train_opt1)\n",
                "\n",
                "recall_test = recall_score(y_test, y_pred_opt1)\n",
                "recall_train = recall_score(y_train, y_pred_train_opt1)\n",
                "\n",
                "print(\"Test Score: \")\n",
                "print(\"Accuracy Test: \", accuracy_test)\n",
                "print(\"F1 score Test: \", f1_score_test)\n",
                "print(\"Precision Test: \", precision_test)\n",
                "print(\"Recall Test: \", recall_test)\n",
                "print(\"\")\n",
                "print(\"Train Score: \")\n",
                "print(\"Accuracy Train: \", accuracy_train)\n",
                "print(\"F1 score Train: \", f1_score_train)\n",
                "print(\"Precision Train: \", precision_train)\n",
                "print(\"Recall Train: \", recall_train)\n",
                "\n",
                "print(\"\")\n",
                "print(\"Model 1: \")\n",
                "print(\"\")\n",
                "print(classification_report(y_test, y_pred_opt1, target_names=[\"No Spam\", \"Spam\"]))"
            ]
        },
        {
            "cell_type": "code",
            "execution_count": 45,
            "metadata": {},
            "outputs": [
                {
                    "data": {
                        "text/plain": [
                            "{'C': 10, 'gamma': 'scale', 'kernel': 'poly', 'random_state': 21}"
                        ]
                    },
                    "execution_count": 45,
                    "metadata": {},
                    "output_type": "execute_result"
                }
            ],
            "source": [
                "best_params"
            ]
        },
        {
            "cell_type": "markdown",
            "metadata": {},
            "source": [
                "### optimizació 2 amb variabels "
            ]
        },
        {
            "cell_type": "code",
            "execution_count": 48,
            "metadata": {},
            "outputs": [
                {
                    "name": "stdout",
                    "output_type": "stream",
                    "text": [
                        "Best hyperparameters: {'C': 50, 'gamma': 1, 'kernel': 'rbf', 'random_state': 21}\n"
                    ]
                }
            ],
            "source": [
                "model_base = SVC()\n",
                "\n",
                "hyperparameters = {'kernel': [\"linear\", \"rbf\", \"poly\"],\n",
                "                   'C': [0.1, 1, 10, 50, 100], \n",
                "                   'gamma': [1, 0.1, 0.01, 0.001, 0.0001], \n",
                "                   'random_state': [21],\n",
                "}\n",
                "\n",
                "grid = GridSearchCV(model_base, hyperparameters, cv=5, scoring='accuracy', n_jobs=-1)\n",
                "\n",
                "grid.fit(X_train, y_train)\n",
                "best_params = grid.best_params_\n",
                "print(f\"Best hyperparameters: {grid.best_params_}\")\n"
            ]
        },
        {
            "cell_type": "code",
            "execution_count": 49,
            "metadata": {},
            "outputs": [
                {
                    "data": {
                        "text/plain": [
                            "array([1, 0, 1, 1, 1, 0, 0, 0, 0, 1])"
                        ]
                    },
                    "execution_count": 49,
                    "metadata": {},
                    "output_type": "execute_result"
                }
            ],
            "source": [
                "# runneando la optimisasió\n",
                "\n",
                "model_opt2 = SVC(**best_params)\n",
                "model_opt2.fit(X_train, y_train)\n",
                "\n",
                "y_pred_opt2 = model_opt2.predict(X_test)\n",
                "y_pred_train_opt2 = model_opt2.predict(X_train)\n",
                "\n",
                "\n",
                "y_pred_opt2[:10]"
            ]
        },
        {
            "cell_type": "code",
            "execution_count": 52,
            "metadata": {},
            "outputs": [
                {
                    "name": "stdout",
                    "output_type": "stream",
                    "text": [
                        "Test Score: \n",
                        "Accuracy Test:  0.9457700650759219\n",
                        "F1 score Test:  0.9460043196544277\n",
                        "Precision Test:  0.9358974358974359\n",
                        "Recall Test:  0.9563318777292577\n",
                        "\n",
                        "Train Score: \n",
                        "Accuracy Train:  0.9641693811074918\n",
                        "F1 score Train:  0.9639541234298198\n",
                        "Precision Train:  0.9713813979086406\n",
                        "Recall Train:  0.9566395663956639\n",
                        "\n",
                        "Model 1: \n",
                        "\n",
                        "              precision    recall  f1-score   support\n",
                        "\n",
                        "     No Spam       0.96      0.94      0.95       464\n",
                        "        Spam       0.94      0.96      0.95       458\n",
                        "\n",
                        "    accuracy                           0.95       922\n",
                        "   macro avg       0.95      0.95      0.95       922\n",
                        "weighted avg       0.95      0.95      0.95       922\n",
                        "\n"
                    ]
                }
            ],
            "source": [
                "accuracy_test = accuracy_score(y_test, y_pred_opt2)\n",
                "accuracy_train = accuracy_score(y_train, y_pred_train_opt2)\n",
                "\n",
                "f1_score_test = f1_score(y_test, y_pred_opt2)\n",
                "f1_score_train = f1_score(y_train, y_pred_train_opt2)\n",
                "\n",
                "precision_test = precision_score(y_test, y_pred_opt2)\n",
                "precision_train = precision_score(y_train, y_pred_train_opt2)\n",
                "\n",
                "recall_test = recall_score(y_test, y_pred_opt2)\n",
                "recall_train = recall_score(y_train, y_pred_train_opt2)\n",
                "\n",
                "print(\"Test Score: \")\n",
                "print(\"Accuracy Test: \", accuracy_test)\n",
                "print(\"F1 score Test: \", f1_score_test)\n",
                "print(\"Precision Test: \", precision_test)\n",
                "print(\"Recall Test: \", recall_test)\n",
                "print(\"\")\n",
                "print(\"Train Score: \")\n",
                "print(\"Accuracy Train: \", accuracy_train)\n",
                "print(\"F1 score Train: \", f1_score_train)\n",
                "print(\"Precision Train: \", precision_train)\n",
                "print(\"Recall Train: \", recall_train)\n",
                "\n",
                "print(\"\")\n",
                "print(\"Model 1: \")\n",
                "print(\"\")\n",
                "print(classification_report(y_test, y_pred_opt2, target_names=[\"No Spam\", \"Spam\"]))"
            ]
        }
    ],
    "metadata": {
        "kernelspec": {
            "display_name": "Python 3.8.13 64-bit ('3.8.13')",
            "language": "python",
            "name": "python3"
        },
        "language_info": {
            "codemirror_mode": {
                "name": "ipython",
                "version": 3
            },
            "file_extension": ".py",
            "mimetype": "text/x-python",
            "name": "python",
            "nbconvert_exporter": "python",
            "pygments_lexer": "ipython3",
            "version": "3.11.1"
        },
        "orig_nbformat": 4,
        "vscode": {
            "interpreter": {
                "hash": "110cc1dee26208153f2972f08a2ad52b6a56238dc66d48e87fb757ef2996db56"
            }
        }
    },
    "nbformat": 4,
    "nbformat_minor": 2
}
