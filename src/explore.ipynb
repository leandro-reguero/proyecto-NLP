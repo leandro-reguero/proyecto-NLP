{
    "cells": [
        {
            "cell_type": "markdown",
            "metadata": {},
            "source": [
                "# Explore here"
            ]
        },
        {
            "cell_type": "code",
            "execution_count": 2,
            "metadata": {},
            "outputs": [],
            "source": [
                "# Libraries\n",
                "import pandas as pd\n",
                "import numpy as np\n",
                "import regex as re\n",
                "\n",
                "import matplotlib.pyplot as plt\n",
                "import seaborn as sns\n",
                "\n",
                "from nltk import download\n",
                "from nltk.corpus import stopwords\n",
                "from nltk.stem import WordNetLemmatizer\n",
                "\n",
                "from sklearn.feature_extraction.text import TfidfVectorizer\n",
                "from sklearn.model_selection import train_test_split\n",
                "from sklearn.metrics import accuracy_score\n",
                "\n",
                "from sklearn.svm import SVC\n",
                "\n",
                "import warnings"
            ]
        },
        {
            "cell_type": "code",
            "execution_count": 3,
            "metadata": {},
            "outputs": [
                {
                    "data": {
                        "text/html": [
                            "<div>\n",
                            "<style scoped>\n",
                            "    .dataframe tbody tr th:only-of-type {\n",
                            "        vertical-align: middle;\n",
                            "    }\n",
                            "\n",
                            "    .dataframe tbody tr th {\n",
                            "        vertical-align: top;\n",
                            "    }\n",
                            "\n",
                            "    .dataframe thead th {\n",
                            "        text-align: right;\n",
                            "    }\n",
                            "</style>\n",
                            "<table border=\"1\" class=\"dataframe\">\n",
                            "  <thead>\n",
                            "    <tr style=\"text-align: right;\">\n",
                            "      <th></th>\n",
                            "      <th>url</th>\n",
                            "      <th>is_spam</th>\n",
                            "    </tr>\n",
                            "  </thead>\n",
                            "  <tbody>\n",
                            "    <tr>\n",
                            "      <th>0</th>\n",
                            "      <td>https://briefingday.us8.list-manage.com/unsubs...</td>\n",
                            "      <td>True</td>\n",
                            "    </tr>\n",
                            "    <tr>\n",
                            "      <th>1</th>\n",
                            "      <td>https://www.hvper.com/</td>\n",
                            "      <td>True</td>\n",
                            "    </tr>\n",
                            "    <tr>\n",
                            "      <th>2</th>\n",
                            "      <td>https://briefingday.com/m/v4n3i4f3</td>\n",
                            "      <td>True</td>\n",
                            "    </tr>\n",
                            "    <tr>\n",
                            "      <th>3</th>\n",
                            "      <td>https://briefingday.com/n/20200618/m#commentform</td>\n",
                            "      <td>False</td>\n",
                            "    </tr>\n",
                            "    <tr>\n",
                            "      <th>4</th>\n",
                            "      <td>https://briefingday.com/fan</td>\n",
                            "      <td>True</td>\n",
                            "    </tr>\n",
                            "  </tbody>\n",
                            "</table>\n",
                            "</div>"
                        ],
                        "text/plain": [
                            "                                                 url  is_spam\n",
                            "0  https://briefingday.us8.list-manage.com/unsubs...     True\n",
                            "1                             https://www.hvper.com/     True\n",
                            "2                 https://briefingday.com/m/v4n3i4f3     True\n",
                            "3   https://briefingday.com/n/20200618/m#commentform    False\n",
                            "4                        https://briefingday.com/fan     True"
                        ]
                    },
                    "execution_count": 3,
                    "metadata": {},
                    "output_type": "execute_result"
                }
            ],
            "source": [
                "rawdata = pd.read_csv('https://raw.githubusercontent.com/4GeeksAcademy/NLP-project-tutorial/main/url_spam.csv')\n",
                "\n",
                "rawdata.to_csv('../data/raw/url_spam_raw.csv')\n",
                "rawdata.head()"
            ]
        },
        {
            "cell_type": "code",
            "execution_count": 4,
            "metadata": {},
            "outputs": [
                {
                    "data": {
                        "text/html": [
                            "<div>\n",
                            "<style scoped>\n",
                            "    .dataframe tbody tr th:only-of-type {\n",
                            "        vertical-align: middle;\n",
                            "    }\n",
                            "\n",
                            "    .dataframe tbody tr th {\n",
                            "        vertical-align: top;\n",
                            "    }\n",
                            "\n",
                            "    .dataframe thead th {\n",
                            "        text-align: right;\n",
                            "    }\n",
                            "</style>\n",
                            "<table border=\"1\" class=\"dataframe\">\n",
                            "  <thead>\n",
                            "    <tr style=\"text-align: right;\">\n",
                            "      <th></th>\n",
                            "      <th>url</th>\n",
                            "      <th>is_spam</th>\n",
                            "    </tr>\n",
                            "  </thead>\n",
                            "  <tbody>\n",
                            "    <tr>\n",
                            "      <th>0</th>\n",
                            "      <td>https://briefingday.us8.list-manage.com/unsubs...</td>\n",
                            "      <td>1</td>\n",
                            "    </tr>\n",
                            "    <tr>\n",
                            "      <th>1</th>\n",
                            "      <td>https://www.hvper.com/</td>\n",
                            "      <td>1</td>\n",
                            "    </tr>\n",
                            "    <tr>\n",
                            "      <th>2</th>\n",
                            "      <td>https://briefingday.com/m/v4n3i4f3</td>\n",
                            "      <td>1</td>\n",
                            "    </tr>\n",
                            "    <tr>\n",
                            "      <th>3</th>\n",
                            "      <td>https://briefingday.com/n/20200618/m#commentform</td>\n",
                            "      <td>0</td>\n",
                            "    </tr>\n",
                            "    <tr>\n",
                            "      <th>4</th>\n",
                            "      <td>https://briefingday.com/fan</td>\n",
                            "      <td>1</td>\n",
                            "    </tr>\n",
                            "  </tbody>\n",
                            "</table>\n",
                            "</div>"
                        ],
                        "text/plain": [
                            "                                                 url  is_spam\n",
                            "0  https://briefingday.us8.list-manage.com/unsubs...        1\n",
                            "1                             https://www.hvper.com/        1\n",
                            "2                 https://briefingday.com/m/v4n3i4f3        1\n",
                            "3   https://briefingday.com/n/20200618/m#commentform        0\n",
                            "4                        https://briefingday.com/fan        1"
                        ]
                    },
                    "execution_count": 4,
                    "metadata": {},
                    "output_type": "execute_result"
                }
            ],
            "source": [
                "rawdata['is_spam'] = rawdata['is_spam'].astype(int) \n",
                "\n",
                "rawdata.head()"
            ]
        },
        {
            "cell_type": "code",
            "execution_count": 5,
            "metadata": {},
            "outputs": [
                {
                    "name": "stdout",
                    "output_type": "stream",
                    "text": [
                        "<class 'pandas.core.frame.DataFrame'>\n",
                        "RangeIndex: 2999 entries, 0 to 2998\n",
                        "Data columns (total 2 columns):\n",
                        " #   Column   Non-Null Count  Dtype \n",
                        "---  ------   --------------  ----- \n",
                        " 0   url      2999 non-null   object\n",
                        " 1   is_spam  2999 non-null   int32 \n",
                        "dtypes: int32(1), object(1)\n",
                        "memory usage: 35.3+ KB\n"
                    ]
                }
            ],
            "source": [
                "rawdata.info()"
            ]
        },
        {
            "cell_type": "code",
            "execution_count": 6,
            "metadata": {},
            "outputs": [
                {
                    "name": "stdout",
                    "output_type": "stream",
                    "text": [
                        "                                                    url  is_spam\n",
                        "60    https://briefingday.us8.list-manage.com/unsubs...        1\n",
                        "61                               https://www.hvper.com/        1\n",
                        "62                   https://briefingday.com/m/v4n3i4f3        1\n",
                        "64                          https://briefingday.com/fan        1\n",
                        "113                         https://briefingday.com/fan        1\n",
                        "...                                                 ...      ...\n",
                        "2971  https://www.cnbc.com/2020/06/29/stock-market-f...        0\n",
                        "2972                      https://thehustle.co/account/        1\n",
                        "2973                              https://thehustle.co/        1\n",
                        "2979               https://www.bloomberg.com/tosv2.html        1\n",
                        "2995                      https://www.youtube.com/watch        1\n",
                        "\n",
                        "[630 rows x 2 columns]\n"
                    ]
                }
            ],
            "source": [
                "rawdata.duplicated().sum()\n",
                "\n",
                "dupes = rawdata[rawdata.duplicated()]\n",
                "\n",
                "print(dupes)"
            ]
        },
        {
            "cell_type": "code",
            "execution_count": 7,
            "metadata": {},
            "outputs": [
                {
                    "name": "stdout",
                    "output_type": "stream",
                    "text": [
                        "briefingday count = 69\n",
                        "youtube count = 104\n"
                    ]
                }
            ],
            "source": [
                "briefingday = rawdata[rawdata['url'].str.contains('briefingday')]\n",
                "print(f\"briefingday count = {len(briefingday)}\")\n",
                "\n",
                "yt = rawdata[rawdata['url'].str.contains('youtube')]\n",
                "print(f\"youtube count = {len(yt)}\")"
            ]
        },
        {
            "cell_type": "code",
            "execution_count": 8,
            "metadata": {},
            "outputs": [
                {
                    "name": "stdout",
                    "output_type": "stream",
                    "text": [
                        "yt dupes count = 14\n"
                    ]
                }
            ],
            "source": [
                "yt_dupes = dupes[dupes['url'].str.contains('youtube')]\n",
                "print(f\"yt dupes count = {len(yt_dupes)}\")"
            ]
        },
        {
            "cell_type": "markdown",
            "metadata": {},
            "source": [
                "##### No quitamos los duplicados, ya que muchos duplicados realmente son links distintos y pueden aportar a la clasificación del modelo"
            ]
        },
        {
            "cell_type": "code",
            "execution_count": 9,
            "metadata": {},
            "outputs": [
                {
                    "name": "stdout",
                    "output_type": "stream",
                    "text": [
                        "https:// = 2945\n",
                        "http:// = 54\n",
                        "total = 2999\n",
                        "dataset length = 2999\n"
                    ]
                }
            ],
            "source": [
                "https = 0\n",
                "http = 0\n",
                "for row in rawdata['url']:\n",
                "    if str(row).startswith('https://'):\n",
                "        https += 1\n",
                "    elif str(row).startswith('http://'):\n",
                "        http += 1\n",
                "    else:\n",
                "        print(row)\n",
                "\n",
                "\n",
                "print(f\"https:// = {https}\")\n",
                "print(f\"http:// = {http}\")\n",
                "print(f\"total = {https + http}\")\n",
                "print(f\"dataset length = {len(rawdata)}\")"
            ]
        },
        {
            "cell_type": "code",
            "execution_count": 10,
            "metadata": {},
            "outputs": [
                {
                    "name": "stdout",
                    "output_type": "stream",
                    "text": [
                        "                                                    url  is_spam  \\\n",
                        "0     https://briefingday.us8.list-manage.com/unsubs...        1   \n",
                        "1                                https://www.hvper.com/        1   \n",
                        "2                    https://briefingday.com/m/v4n3i4f3        1   \n",
                        "3      https://briefingday.com/n/20200618/m#commentform        0   \n",
                        "4                           https://briefingday.com/fan        1   \n",
                        "...                                                 ...      ...   \n",
                        "2994  https://www.smartcitiesworld.net/news/news/dee...        0   \n",
                        "2995                      https://www.youtube.com/watch        1   \n",
                        "2996  https://techcrunch.com/2019/07/04/an-optimisti...        0   \n",
                        "2997  https://www.technologyreview.com/2019/12/20/13...        0   \n",
                        "2998       https://www.bbc.com/news/technology-51018758        0   \n",
                        "\n",
                        "                                           url_stripped  \n",
                        "0           briefingday.us8.list-manage.com/unsubscribe  \n",
                        "1                                            hvper.com/  \n",
                        "2                            briefingday.com/m/v4n3i4f3  \n",
                        "3              briefingday.com/n/20200618/m#commentform  \n",
                        "4                                   briefingday.com/fan  \n",
                        "...                                                 ...  \n",
                        "2994  smartcitiesworld.net/news/news/deepfake-techno...  \n",
                        "2995                                  youtube.com/watch  \n",
                        "2996  techcrunch.com/2019/07/04/an-optimistic-view-o...  \n",
                        "2997  technologyreview.com/2019/12/20/131462/this-st...  \n",
                        "2998                   bbc.com/news/technology-51018758  \n",
                        "\n",
                        "[2999 rows x 3 columns]\n"
                    ]
                }
            ],
            "source": [
                "def clean_htps(columna):\n",
                "    # defino la nueva columna\n",
                "    new_column = []\n",
                "    # cambio y sustituyo los inicios de la columna raw\n",
                "    for row in columna:\n",
                "        if str(row).startswith('https://'):\n",
                "            row = row.replace('https://', '')\n",
                "            new_column.append(row) # guardo el resultado en la lista vacía\n",
                "        elif str(row).startswith('http://'):\n",
                "            row = row.replace('http://', '')\n",
                "            new_column.append(row)\n",
                "        else:\n",
                "            new_column.append(row)\n",
                "\n",
                "    final_column = []\n",
                "    # ahora que ya no hay https, quito el www del inicio\n",
                "    for row in new_column:\n",
                "        if str(row).startswith('www.'):\n",
                "            row = row.replace('www.', '')\n",
                "            final_column.append(row)\n",
                "        else: \n",
                "            final_column.append(row)\n",
                "\n",
                "\n",
                "    return final_column\n",
                "\n",
                "rawdata['url_stripped'] = clean_htps(rawdata['url'])\n",
                "print(rawdata)"
            ]
        },
        {
            "cell_type": "code",
            "execution_count": 11,
            "metadata": {},
            "outputs": [
                {
                    "name": "stdout",
                    "output_type": "stream",
                    "text": [
                        "count      2999\n",
                        "unique      386\n",
                        "top       [com]\n",
                        "freq        534\n",
                        "Name: url, dtype: object\n"
                    ]
                }
            ],
            "source": [
                "def get_dot(row):\n",
                "    # creo la lista para guardar los dots\n",
                "    dots = []\n",
                "    # divido el string en base al punto, y me quedo con lo que viene despúes del punto\n",
                "    x = str(row).partition('.')[2]\n",
                "    # guardo 3 caracteres despues del punto (.com)\n",
                "    dots.append(str(x)[:3])\n",
                "    return dots\n",
                "\n",
                "# aplico la función a toda la columna\n",
                "puntos = rawdata['url'].apply(get_dot)\n",
                "print(puntos.describe())"
            ]
        },
        {
            "cell_type": "code",
            "execution_count": 12,
            "metadata": {},
            "outputs": [
                {
                    "name": "stdout",
                    "output_type": "stream",
                    "text": [
                        "                                                    url  is_spam  \\\n",
                        "0     https://briefingday.us8.list-manage.com/unsubs...        1   \n",
                        "1                                https://www.hvper.com/        1   \n",
                        "2                    https://briefingday.com/m/v4n3i4f3        1   \n",
                        "3      https://briefingday.com/n/20200618/m#commentform        0   \n",
                        "4                           https://briefingday.com/fan        1   \n",
                        "...                                                 ...      ...   \n",
                        "2994  https://www.smartcitiesworld.net/news/news/dee...        0   \n",
                        "2995                      https://www.youtube.com/watch        1   \n",
                        "2996  https://techcrunch.com/2019/07/04/an-optimisti...        0   \n",
                        "2997  https://www.technologyreview.com/2019/12/20/13...        0   \n",
                        "2998       https://www.bbc.com/news/technology-51018758        0   \n",
                        "\n",
                        "                                           url_stripped  \n",
                        "0           briefingday.us8.list-manage.com/unsubscribe  \n",
                        "1                                            hvper.com/  \n",
                        "2                            briefingday.com/m/v4n3i4f3  \n",
                        "3              briefingday.com/n/20200618/m#commentform  \n",
                        "4                                   briefingday.com/fan  \n",
                        "...                                                 ...  \n",
                        "2994  smartcitiesworld.net/news/news/deepfake-techno...  \n",
                        "2995                                  youtube.com/watch  \n",
                        "2996  techcrunch.com/2019/07/04/an-optimistic-view-o...  \n",
                        "2997  technologyreview.com/2019/12/20/131462/this-st...  \n",
                        "2998                   bbc.com/news/technology-51018758  \n",
                        "\n",
                        "[2999 rows x 3 columns]\n"
                    ]
                }
            ],
            "source": [
                "print(rawdata)"
            ]
        },
        {
            "cell_type": "code",
            "execution_count": 13,
            "metadata": {},
            "outputs": [],
            "source": [
                "rawdata.drop('url', axis=1, inplace=True)"
            ]
        },
        {
            "cell_type": "code",
            "execution_count": 14,
            "metadata": {},
            "outputs": [],
            "source": [
                "def prosesin(text):\n",
                "    # quedarme con letras y espacios\n",
                "    text = re.sub(r'[^a-z ]', \" \", text)\n",
                "\n",
                "    # saco espacios\n",
                "    text = re.sub(r'\\s+[a-zA-Z]\\s+', \" \", text)\n",
                "    text = re.sub(r'\\^[a-zA-Z]\\s+', \" \", text)\n",
                "\n",
                "    # Reducir espacios en blanco múltiples a uno único\n",
                "    text = re.sub(r'\\s+', \" \", text.lower())\n",
                "\n",
                "    return text.split()\n"
            ]
        },
        {
            "cell_type": "code",
            "execution_count": 15,
            "metadata": {},
            "outputs": [
                {
                    "data": {
                        "text/plain": [
                            "[0       [briefingday, us, list, manage, com, unsubscribe]\n",
                            " 1                                            [hvper, com]\n",
                            " 2                                [briefingday, com, v, i]\n",
                            " 3                      [briefingday, com, m, commentform]\n",
                            " 4                                 [briefingday, com, fan]\n",
                            "                               ...                        \n",
                            " 2994    [smartcitiesworld, net, news, news, deepfake, ...\n",
                            " 2995                                [youtube, com, watch]\n",
                            " 2996    [techcrunch, com, an, optimistic, view, of, de...\n",
                            " 2997    [technologyreview, com, this, startup, claims,...\n",
                            " 2998                         [bbc, com, news, technology]\n",
                            " Name: url_stripped, Length: 2999, dtype: object]"
                        ]
                    },
                    "execution_count": 15,
                    "metadata": {},
                    "output_type": "execute_result"
                }
            ],
            "source": [
                "baf = [rawdata['url_stripped'].apply(prosesin)]\n",
                "baf"
            ]
        },
        {
            "cell_type": "code",
            "execution_count": 16,
            "metadata": {},
            "outputs": [
                {
                    "data": {
                        "text/html": [
                            "<div>\n",
                            "<style scoped>\n",
                            "    .dataframe tbody tr th:only-of-type {\n",
                            "        vertical-align: middle;\n",
                            "    }\n",
                            "\n",
                            "    .dataframe tbody tr th {\n",
                            "        vertical-align: top;\n",
                            "    }\n",
                            "\n",
                            "    .dataframe thead th {\n",
                            "        text-align: right;\n",
                            "    }\n",
                            "</style>\n",
                            "<table border=\"1\" class=\"dataframe\">\n",
                            "  <thead>\n",
                            "    <tr style=\"text-align: right;\">\n",
                            "      <th></th>\n",
                            "      <th>is_spam</th>\n",
                            "      <th>url_stripped</th>\n",
                            "      <th>url_processed</th>\n",
                            "    </tr>\n",
                            "  </thead>\n",
                            "  <tbody>\n",
                            "    <tr>\n",
                            "      <th>0</th>\n",
                            "      <td>1</td>\n",
                            "      <td>briefingday.us8.list-manage.com/unsubscribe</td>\n",
                            "      <td>[briefingday, us, list, manage, com, unsubscribe]</td>\n",
                            "    </tr>\n",
                            "    <tr>\n",
                            "      <th>1</th>\n",
                            "      <td>1</td>\n",
                            "      <td>hvper.com/</td>\n",
                            "      <td>[hvper, com]</td>\n",
                            "    </tr>\n",
                            "    <tr>\n",
                            "      <th>2</th>\n",
                            "      <td>1</td>\n",
                            "      <td>briefingday.com/m/v4n3i4f3</td>\n",
                            "      <td>[briefingday, com, v, i]</td>\n",
                            "    </tr>\n",
                            "    <tr>\n",
                            "      <th>3</th>\n",
                            "      <td>0</td>\n",
                            "      <td>briefingday.com/n/20200618/m#commentform</td>\n",
                            "      <td>[briefingday, com, m, commentform]</td>\n",
                            "    </tr>\n",
                            "    <tr>\n",
                            "      <th>4</th>\n",
                            "      <td>1</td>\n",
                            "      <td>briefingday.com/fan</td>\n",
                            "      <td>[briefingday, com, fan]</td>\n",
                            "    </tr>\n",
                            "  </tbody>\n",
                            "</table>\n",
                            "</div>"
                        ],
                        "text/plain": [
                            "   is_spam                                 url_stripped  \\\n",
                            "0        1  briefingday.us8.list-manage.com/unsubscribe   \n",
                            "1        1                                   hvper.com/   \n",
                            "2        1                   briefingday.com/m/v4n3i4f3   \n",
                            "3        0     briefingday.com/n/20200618/m#commentform   \n",
                            "4        1                          briefingday.com/fan   \n",
                            "\n",
                            "                                       url_processed  \n",
                            "0  [briefingday, us, list, manage, com, unsubscribe]  \n",
                            "1                                       [hvper, com]  \n",
                            "2                           [briefingday, com, v, i]  \n",
                            "3                 [briefingday, com, m, commentform]  \n",
                            "4                            [briefingday, com, fan]  "
                        ]
                    },
                    "execution_count": 16,
                    "metadata": {},
                    "output_type": "execute_result"
                }
            ],
            "source": [
                "rawdata['url_processed'] = rawdata['url_stripped'].apply(prosesin)\n",
                "\n",
                "rawdata.head()"
            ]
        },
        {
            "cell_type": "code",
            "execution_count": 17,
            "metadata": {},
            "outputs": [],
            "source": [
                "rawdata.drop('url_stripped', axis=1, inplace=True)"
            ]
        },
        {
            "cell_type": "code",
            "execution_count": 18,
            "metadata": {},
            "outputs": [
                {
                    "data": {
                        "text/html": [
                            "<div>\n",
                            "<style scoped>\n",
                            "    .dataframe tbody tr th:only-of-type {\n",
                            "        vertical-align: middle;\n",
                            "    }\n",
                            "\n",
                            "    .dataframe tbody tr th {\n",
                            "        vertical-align: top;\n",
                            "    }\n",
                            "\n",
                            "    .dataframe thead th {\n",
                            "        text-align: right;\n",
                            "    }\n",
                            "</style>\n",
                            "<table border=\"1\" class=\"dataframe\">\n",
                            "  <thead>\n",
                            "    <tr style=\"text-align: right;\">\n",
                            "      <th></th>\n",
                            "      <th>is_spam</th>\n",
                            "      <th>url_processed</th>\n",
                            "    </tr>\n",
                            "  </thead>\n",
                            "  <tbody>\n",
                            "    <tr>\n",
                            "      <th>0</th>\n",
                            "      <td>1</td>\n",
                            "      <td>[briefingday, us, list, manage, com, unsubscribe]</td>\n",
                            "    </tr>\n",
                            "    <tr>\n",
                            "      <th>1</th>\n",
                            "      <td>1</td>\n",
                            "      <td>[hvper, com]</td>\n",
                            "    </tr>\n",
                            "    <tr>\n",
                            "      <th>2</th>\n",
                            "      <td>1</td>\n",
                            "      <td>[briefingday, com, v, i]</td>\n",
                            "    </tr>\n",
                            "    <tr>\n",
                            "      <th>3</th>\n",
                            "      <td>0</td>\n",
                            "      <td>[briefingday, com, m, commentform]</td>\n",
                            "    </tr>\n",
                            "    <tr>\n",
                            "      <th>4</th>\n",
                            "      <td>1</td>\n",
                            "      <td>[briefingday, com, fan]</td>\n",
                            "    </tr>\n",
                            "    <tr>\n",
                            "      <th>...</th>\n",
                            "      <td>...</td>\n",
                            "      <td>...</td>\n",
                            "    </tr>\n",
                            "    <tr>\n",
                            "      <th>2994</th>\n",
                            "      <td>0</td>\n",
                            "      <td>[smartcitiesworld, net, news, news, deepfake, ...</td>\n",
                            "    </tr>\n",
                            "    <tr>\n",
                            "      <th>2995</th>\n",
                            "      <td>1</td>\n",
                            "      <td>[youtube, com, watch]</td>\n",
                            "    </tr>\n",
                            "    <tr>\n",
                            "      <th>2996</th>\n",
                            "      <td>0</td>\n",
                            "      <td>[techcrunch, com, an, optimistic, view, of, de...</td>\n",
                            "    </tr>\n",
                            "    <tr>\n",
                            "      <th>2997</th>\n",
                            "      <td>0</td>\n",
                            "      <td>[technologyreview, com, this, startup, claims,...</td>\n",
                            "    </tr>\n",
                            "    <tr>\n",
                            "      <th>2998</th>\n",
                            "      <td>0</td>\n",
                            "      <td>[bbc, com, news, technology]</td>\n",
                            "    </tr>\n",
                            "  </tbody>\n",
                            "</table>\n",
                            "<p>2999 rows × 2 columns</p>\n",
                            "</div>"
                        ],
                        "text/plain": [
                            "      is_spam                                      url_processed\n",
                            "0           1  [briefingday, us, list, manage, com, unsubscribe]\n",
                            "1           1                                       [hvper, com]\n",
                            "2           1                           [briefingday, com, v, i]\n",
                            "3           0                 [briefingday, com, m, commentform]\n",
                            "4           1                            [briefingday, com, fan]\n",
                            "...       ...                                                ...\n",
                            "2994        0  [smartcitiesworld, net, news, news, deepfake, ...\n",
                            "2995        1                              [youtube, com, watch]\n",
                            "2996        0  [techcrunch, com, an, optimistic, view, of, de...\n",
                            "2997        0  [technologyreview, com, this, startup, claims,...\n",
                            "2998        0                       [bbc, com, news, technology]\n",
                            "\n",
                            "[2999 rows x 2 columns]"
                        ]
                    },
                    "execution_count": 18,
                    "metadata": {},
                    "output_type": "execute_result"
                }
            ],
            "source": [
                "rawdata.reset_index()\n",
                "rawdata"
            ]
        },
        {
            "cell_type": "code",
            "execution_count": 19,
            "metadata": {},
            "outputs": [
                {
                    "name": "stderr",
                    "output_type": "stream",
                    "text": [
                        "[nltk_data] Downloading package wordnet to\n",
                        "[nltk_data]     C:\\Users\\34616\\AppData\\Roaming\\nltk_data...\n",
                        "[nltk_data]   Package wordnet is already up-to-date!\n",
                        "[nltk_data] Downloading package stopwords to\n",
                        "[nltk_data]     C:\\Users\\34616\\AppData\\Roaming\\nltk_data...\n",
                        "[nltk_data]   Package stopwords is already up-to-date!\n"
                    ]
                }
            ],
            "source": [
                "download(\"wordnet\")\n",
                "lemmatizer = WordNetLemmatizer()\n",
                "\n",
                "download(\"stopwords\")\n",
                "stop_words = stopwords.words(\"english\")\n",
                "\n",
                "def lemmatize_text(words, lemmatizer = lemmatizer):\n",
                "    # lematisasion\n",
                "    tokens = [lemmatizer.lemmatize(word) for word in words]\n",
                "    # fuera stop words\n",
                "    tokens = [word for word in tokens if word not in stop_words]\n",
                "\n",
                "    # eliminar palabras chiquitas\n",
                "    tokens = [word for word in tokens if len(word) >= 3]\n",
                "\n",
                "    return tokens\n",
                "\n",
                "\n",
                "\n"
            ]
        },
        {
            "cell_type": "code",
            "execution_count": 20,
            "metadata": {},
            "outputs": [
                {
                    "data": {
                        "text/html": [
                            "<div>\n",
                            "<style scoped>\n",
                            "    .dataframe tbody tr th:only-of-type {\n",
                            "        vertical-align: middle;\n",
                            "    }\n",
                            "\n",
                            "    .dataframe tbody tr th {\n",
                            "        vertical-align: top;\n",
                            "    }\n",
                            "\n",
                            "    .dataframe thead th {\n",
                            "        text-align: right;\n",
                            "    }\n",
                            "</style>\n",
                            "<table border=\"1\" class=\"dataframe\">\n",
                            "  <thead>\n",
                            "    <tr style=\"text-align: right;\">\n",
                            "      <th></th>\n",
                            "      <th>is_spam</th>\n",
                            "      <th>url_processed</th>\n",
                            "    </tr>\n",
                            "  </thead>\n",
                            "  <tbody>\n",
                            "    <tr>\n",
                            "      <th>0</th>\n",
                            "      <td>1</td>\n",
                            "      <td>[briefingday, list, manage, com, unsubscribe]</td>\n",
                            "    </tr>\n",
                            "    <tr>\n",
                            "      <th>1</th>\n",
                            "      <td>1</td>\n",
                            "      <td>[hvper, com]</td>\n",
                            "    </tr>\n",
                            "    <tr>\n",
                            "      <th>2</th>\n",
                            "      <td>1</td>\n",
                            "      <td>[briefingday, com]</td>\n",
                            "    </tr>\n",
                            "    <tr>\n",
                            "      <th>3</th>\n",
                            "      <td>0</td>\n",
                            "      <td>[briefingday, com, commentform]</td>\n",
                            "    </tr>\n",
                            "    <tr>\n",
                            "      <th>4</th>\n",
                            "      <td>1</td>\n",
                            "      <td>[briefingday, com, fan]</td>\n",
                            "    </tr>\n",
                            "    <tr>\n",
                            "      <th>...</th>\n",
                            "      <td>...</td>\n",
                            "      <td>...</td>\n",
                            "    </tr>\n",
                            "    <tr>\n",
                            "      <th>2994</th>\n",
                            "      <td>0</td>\n",
                            "      <td>[smartcitiesworld, net, news, news, deepfake, ...</td>\n",
                            "    </tr>\n",
                            "    <tr>\n",
                            "      <th>2995</th>\n",
                            "      <td>1</td>\n",
                            "      <td>[youtube, com, watch]</td>\n",
                            "    </tr>\n",
                            "    <tr>\n",
                            "      <th>2996</th>\n",
                            "      <td>0</td>\n",
                            "      <td>[techcrunch, com, optimistic, view, deepfakes]</td>\n",
                            "    </tr>\n",
                            "    <tr>\n",
                            "      <th>2997</th>\n",
                            "      <td>0</td>\n",
                            "      <td>[technologyreview, com, startup, claim, deepfa...</td>\n",
                            "    </tr>\n",
                            "    <tr>\n",
                            "      <th>2998</th>\n",
                            "      <td>0</td>\n",
                            "      <td>[bbc, com, news, technology]</td>\n",
                            "    </tr>\n",
                            "  </tbody>\n",
                            "</table>\n",
                            "<p>2999 rows × 2 columns</p>\n",
                            "</div>"
                        ],
                        "text/plain": [
                            "      is_spam                                      url_processed\n",
                            "0           1      [briefingday, list, manage, com, unsubscribe]\n",
                            "1           1                                       [hvper, com]\n",
                            "2           1                                 [briefingday, com]\n",
                            "3           0                    [briefingday, com, commentform]\n",
                            "4           1                            [briefingday, com, fan]\n",
                            "...       ...                                                ...\n",
                            "2994        0  [smartcitiesworld, net, news, news, deepfake, ...\n",
                            "2995        1                              [youtube, com, watch]\n",
                            "2996        0     [techcrunch, com, optimistic, view, deepfakes]\n",
                            "2997        0  [technologyreview, com, startup, claim, deepfa...\n",
                            "2998        0                       [bbc, com, news, technology]\n",
                            "\n",
                            "[2999 rows x 2 columns]"
                        ]
                    },
                    "execution_count": 20,
                    "metadata": {},
                    "output_type": "execute_result"
                }
            ],
            "source": [
                "df = rawdata\n",
                "\n",
                "df['url_processed'] = df['url_processed'].apply(lemmatize_text)\n",
                "\n",
                "df"
            ]
        },
        {
            "cell_type": "code",
            "execution_count": 21,
            "metadata": {},
            "outputs": [
                {
                    "data": {
                        "text/plain": [
                            "array([[0., 0., 0., ..., 0., 0., 0.],\n",
                            "       [0., 0., 0., ..., 0., 0., 0.],\n",
                            "       [0., 0., 0., ..., 0., 0., 0.],\n",
                            "       [0., 0., 0., ..., 0., 0., 0.],\n",
                            "       [0., 0., 0., ..., 0., 0., 0.]])"
                        ]
                    },
                    "execution_count": 21,
                    "metadata": {},
                    "output_type": "execute_result"
                }
            ],
            "source": [
                "from sklearn.feature_extraction.text import TfidfVectorizer\n",
                "\n",
                "token_list = df['url_processed']\n",
                "token_list = [\" \".join(token) for token in token_list]\n",
                "\n",
                "vect = TfidfVectorizer(max_features = 5000, max_df = 0.6, min_df = 5)\n",
                "\n",
                "X = vect.fit_transform(token_list).toarray()\n",
                "y = df['is_spam']\n",
                "\n",
                "X[:5]"
            ]
        },
        {
            "cell_type": "code",
            "execution_count": 22,
            "metadata": {},
            "outputs": [],
            "source": [
                "X_train, X_test, y_train, y_test = train_test_split(X, y, test_size = 0.2, random_state = 21)\n"
            ]
        },
        {
            "cell_type": "code",
            "execution_count": 23,
            "metadata": {},
            "outputs": [
                {
                    "data": {
                        "text/html": [
                            "<style>#sk-container-id-1 {color: black;}#sk-container-id-1 pre{padding: 0;}#sk-container-id-1 div.sk-toggleable {background-color: white;}#sk-container-id-1 label.sk-toggleable__label {cursor: pointer;display: block;width: 100%;margin-bottom: 0;padding: 0.3em;box-sizing: border-box;text-align: center;}#sk-container-id-1 label.sk-toggleable__label-arrow:before {content: \"▸\";float: left;margin-right: 0.25em;color: #696969;}#sk-container-id-1 label.sk-toggleable__label-arrow:hover:before {color: black;}#sk-container-id-1 div.sk-estimator:hover label.sk-toggleable__label-arrow:before {color: black;}#sk-container-id-1 div.sk-toggleable__content {max-height: 0;max-width: 0;overflow: hidden;text-align: left;background-color: #f0f8ff;}#sk-container-id-1 div.sk-toggleable__content pre {margin: 0.2em;color: black;border-radius: 0.25em;background-color: #f0f8ff;}#sk-container-id-1 input.sk-toggleable__control:checked~div.sk-toggleable__content {max-height: 200px;max-width: 100%;overflow: auto;}#sk-container-id-1 input.sk-toggleable__control:checked~label.sk-toggleable__label-arrow:before {content: \"▾\";}#sk-container-id-1 div.sk-estimator input.sk-toggleable__control:checked~label.sk-toggleable__label {background-color: #d4ebff;}#sk-container-id-1 div.sk-label input.sk-toggleable__control:checked~label.sk-toggleable__label {background-color: #d4ebff;}#sk-container-id-1 input.sk-hidden--visually {border: 0;clip: rect(1px 1px 1px 1px);clip: rect(1px, 1px, 1px, 1px);height: 1px;margin: -1px;overflow: hidden;padding: 0;position: absolute;width: 1px;}#sk-container-id-1 div.sk-estimator {font-family: monospace;background-color: #f0f8ff;border: 1px dotted black;border-radius: 0.25em;box-sizing: border-box;margin-bottom: 0.5em;}#sk-container-id-1 div.sk-estimator:hover {background-color: #d4ebff;}#sk-container-id-1 div.sk-parallel-item::after {content: \"\";width: 100%;border-bottom: 1px solid gray;flex-grow: 1;}#sk-container-id-1 div.sk-label:hover label.sk-toggleable__label {background-color: #d4ebff;}#sk-container-id-1 div.sk-serial::before {content: \"\";position: absolute;border-left: 1px solid gray;box-sizing: border-box;top: 0;bottom: 0;left: 50%;z-index: 0;}#sk-container-id-1 div.sk-serial {display: flex;flex-direction: column;align-items: center;background-color: white;padding-right: 0.2em;padding-left: 0.2em;position: relative;}#sk-container-id-1 div.sk-item {position: relative;z-index: 1;}#sk-container-id-1 div.sk-parallel {display: flex;align-items: stretch;justify-content: center;background-color: white;position: relative;}#sk-container-id-1 div.sk-item::before, #sk-container-id-1 div.sk-parallel-item::before {content: \"\";position: absolute;border-left: 1px solid gray;box-sizing: border-box;top: 0;bottom: 0;left: 50%;z-index: -1;}#sk-container-id-1 div.sk-parallel-item {display: flex;flex-direction: column;z-index: 1;position: relative;background-color: white;}#sk-container-id-1 div.sk-parallel-item:first-child::after {align-self: flex-end;width: 50%;}#sk-container-id-1 div.sk-parallel-item:last-child::after {align-self: flex-start;width: 50%;}#sk-container-id-1 div.sk-parallel-item:only-child::after {width: 0;}#sk-container-id-1 div.sk-dashed-wrapped {border: 1px dashed gray;margin: 0 0.4em 0.5em 0.4em;box-sizing: border-box;padding-bottom: 0.4em;background-color: white;}#sk-container-id-1 div.sk-label label {font-family: monospace;font-weight: bold;display: inline-block;line-height: 1.2em;}#sk-container-id-1 div.sk-label-container {text-align: center;}#sk-container-id-1 div.sk-container {/* jupyter's `normalize.less` sets `[hidden] { display: none; }` but bootstrap.min.css set `[hidden] { display: none !important; }` so we also need the `!important` here to be able to override the default hidden behavior on the sphinx rendered scikit-learn.org. See: https://github.com/scikit-learn/scikit-learn/issues/21755 */display: inline-block !important;position: relative;}#sk-container-id-1 div.sk-text-repr-fallback {display: none;}</style><div id=\"sk-container-id-1\" class=\"sk-top-container\"><div class=\"sk-text-repr-fallback\"><pre>SVC(kernel=&#x27;linear&#x27;, random_state=21)</pre><b>In a Jupyter environment, please rerun this cell to show the HTML representation or trust the notebook. <br />On GitHub, the HTML representation is unable to render, please try loading this page with nbviewer.org.</b></div><div class=\"sk-container\" hidden><div class=\"sk-item\"><div class=\"sk-estimator sk-toggleable\"><input class=\"sk-toggleable__control sk-hidden--visually\" id=\"sk-estimator-id-1\" type=\"checkbox\" checked><label for=\"sk-estimator-id-1\" class=\"sk-toggleable__label sk-toggleable__label-arrow\">SVC</label><div class=\"sk-toggleable__content\"><pre>SVC(kernel=&#x27;linear&#x27;, random_state=21)</pre></div></div></div></div></div>"
                        ],
                        "text/plain": [
                            "SVC(kernel='linear', random_state=21)"
                        ]
                    },
                    "execution_count": 23,
                    "metadata": {},
                    "output_type": "execute_result"
                }
            ],
            "source": [
                "model = SVC(kernel = \"linear\", random_state = 21)\n",
                "\n",
                "model.fit(X_train, y_train)"
            ]
        },
        {
            "cell_type": "code",
            "execution_count": 24,
            "metadata": {},
            "outputs": [
                {
                    "data": {
                        "text/plain": [
                            "array([1, 0, 0, 0, 0, 0, 0, 0, 0, 1])"
                        ]
                    },
                    "execution_count": 24,
                    "metadata": {},
                    "output_type": "execute_result"
                }
            ],
            "source": [
                "y_pred = model.predict(X_test)\n",
                "y_pred[:10]"
            ]
        },
        {
            "cell_type": "code",
            "execution_count": 25,
            "metadata": {},
            "outputs": [
                {
                    "data": {
                        "text/plain": [
                            "0.9266666666666666"
                        ]
                    },
                    "execution_count": 25,
                    "metadata": {},
                    "output_type": "execute_result"
                }
            ],
            "source": [
                "accuracy_score(y_test, y_pred)"
            ]
        },
        {
            "cell_type": "code",
            "execution_count": 26,
            "metadata": {},
            "outputs": [],
            "source": [
                "def check_for_spam():\n",
                "    # pido al usuario una url\n",
                "    new_url = str(input(\"Introduce una url para checkear si es spam: \"))\n",
                "\n",
                "    # proceso el texto de la url como antes\n",
                "    url = prosesin(new_url)\n",
                "    url = lemmatize_text(url, lemmatizer)\n",
                "    url = \" \".join(url)\n",
                "\n",
                "    # vectorizamos la url\n",
                "    vect_url = vect.transform([url]).toarray()\n",
                "\n",
                "    # predecimos si es spam o no:\n",
                "    prediction = model.predict(vect_url)\n",
                "\n",
                "    if prediction == 0:\n",
                "        print(\"Limpito de spam mi rey\")\n",
                "    elif prediction == 1:\n",
                "        print(\"Eso huele a spam mi rey\")"
            ]
        },
        {
            "cell_type": "code",
            "execution_count": 27,
            "metadata": {},
            "outputs": [
                {
                    "name": "stdout",
                    "output_type": "stream",
                    "text": [
                        "Limpito de spam mi rey\n"
                    ]
                }
            ],
            "source": [
                "check_for_spam()"
            ]
        },
        {
            "cell_type": "markdown",
            "metadata": {},
            "source": [
                "#### optimizació"
            ]
        },
        {
            "cell_type": "code",
            "execution_count": 28,
            "metadata": {},
            "outputs": [
                {
                    "name": "stdout",
                    "output_type": "stream",
                    "text": [
                        "Best hyperparameters: {'C': 10, 'gamma': 'scale', 'kernel': 'poly', 'random_state': 21}\n"
                    ]
                }
            ],
            "source": [
                "from sklearn.model_selection import GridSearchCV\n",
                "\n",
                "model_base = SVC()\n",
                "\n",
                "hyperparameters = {'kernel': [\"linear\", \"rbf\", \"poly\"], \n",
                "                   'C': [1, 10, 100, 1000], \n",
                "                   'gamma': [\"scale\", \"auto\"], \n",
                "                   'random_state': [21]\n",
                "}\n",
                "\n",
                "grid = GridSearchCV(model_base, hyperparameters, cv=5, scoring='accuracy', n_jobs=-1)\n",
                "\n",
                "grid.fit(X_train, y_train)\n",
                "best_params = grid.best_params_\n",
                "print(f\"Best hyperparameters: {grid.best_params_}\")"
            ]
        },
        {
            "cell_type": "code",
            "execution_count": 29,
            "metadata": {},
            "outputs": [
                {
                    "data": {
                        "text/plain": [
                            "array([1, 0, 0, 0, 0, 0, 0, 0, 0, 1])"
                        ]
                    },
                    "execution_count": 29,
                    "metadata": {},
                    "output_type": "execute_result"
                }
            ],
            "source": [
                "# runneando la optimització\n",
                "\n",
                "model_opt1 = SVC(**best_params)\n",
                "model_opt1.fit(X_train, y_train)\n",
                "\n",
                "y_pred_opt1 = model_opt1.predict(X_test)\n",
                "y_pred_train_opt1 = model_opt1.predict(X_train)\n",
                "\n",
                "\n",
                "y_pred_opt1[:10]"
            ]
        },
        {
            "cell_type": "code",
            "execution_count": 30,
            "metadata": {},
            "outputs": [
                {
                    "name": "stdout",
                    "output_type": "stream",
                    "text": [
                        "Test Score: \n",
                        "Accuracy Test:  0.9516666666666667\n",
                        "F1 score Test:  0.8953068592057761\n",
                        "Precision Test:  0.9117647058823529\n",
                        "Recall Test:  0.8794326241134752\n",
                        "\n",
                        "Train Score: \n",
                        "Accuracy Train:  0.9699874947894956\n",
                        "F1 score Train:  0.9343065693430657\n",
                        "Precision Train:  0.9463955637707948\n",
                        "Recall Train:  0.9225225225225225\n",
                        "\n",
                        "Model 1: \n",
                        "\n",
                        "              precision    recall  f1-score   support\n",
                        "\n",
                        "     No Spam       0.96      0.97      0.97       459\n",
                        "        Spam       0.91      0.88      0.90       141\n",
                        "\n",
                        "    accuracy                           0.95       600\n",
                        "   macro avg       0.94      0.93      0.93       600\n",
                        "weighted avg       0.95      0.95      0.95       600\n",
                        "\n"
                    ]
                }
            ],
            "source": [
                "from sklearn.metrics import accuracy_score\n",
                "from sklearn.metrics import f1_score\n",
                "from sklearn.metrics import precision_score\n",
                "from sklearn.metrics import recall_score\n",
                "from sklearn.metrics import classification_report\n",
                "\n",
                "accuracy_test = accuracy_score(y_test, y_pred_opt1)\n",
                "accuracy_train = accuracy_score(y_train, y_pred_train_opt1)\n",
                "\n",
                "f1_score_test = f1_score(y_test, y_pred_opt1)\n",
                "f1_score_train = f1_score(y_train, y_pred_train_opt1)\n",
                "\n",
                "precision_test = precision_score(y_test, y_pred_opt1)\n",
                "precision_train = precision_score(y_train, y_pred_train_opt1)\n",
                "\n",
                "recall_test = recall_score(y_test, y_pred_opt1)\n",
                "recall_train = recall_score(y_train, y_pred_train_opt1)\n",
                "\n",
                "print(\"Test Score: \")\n",
                "print(\"Accuracy Test: \", accuracy_test)\n",
                "print(\"F1 score Test: \", f1_score_test)\n",
                "print(\"Precision Test: \", precision_test)\n",
                "print(\"Recall Test: \", recall_test)\n",
                "print(\"\")\n",
                "print(\"Train Score: \")\n",
                "print(\"Accuracy Train: \", accuracy_train)\n",
                "print(\"F1 score Train: \", f1_score_train)\n",
                "print(\"Precision Train: \", precision_train)\n",
                "print(\"Recall Train: \", recall_train)\n",
                "\n",
                "print(\"\")\n",
                "print(\"Model 1: \")\n",
                "print(\"\")\n",
                "print(classification_report(y_test, y_pred_opt1, target_names=[\"No Spam\", \"Spam\"]))"
            ]
        },
        {
            "cell_type": "markdown",
            "metadata": {},
            "source": [
                "# resampling"
            ]
        },
        {
            "cell_type": "code",
            "execution_count": 31,
            "metadata": {},
            "outputs": [
                {
                    "name": "stdout",
                    "output_type": "stream",
                    "text": [
                        "counter train: \n",
                        "Counter({1: 1845, 0: 1839})\n",
                        "counter test:\n",
                        "Counter({0: 464, 1: 458})\n"
                    ]
                },
                {
                    "name": "stderr",
                    "output_type": "stream",
                    "text": [
                        "c:\\Users\\34616\\miniconda3\\envs\\GPU_Chiclanera\\lib\\site-packages\\joblib\\externals\\loky\\backend\\context.py:136: UserWarning: Could not find the number of physical cores for the following reason:\n",
                        "found 0 physical cores < 1\n",
                        "Returning the number of logical cores instead. You can silence this warning by setting LOKY_MAX_CPU_COUNT to the number of cores you want to use.\n",
                        "  warnings.warn(\n",
                        "  File \"c:\\Users\\34616\\miniconda3\\envs\\GPU_Chiclanera\\lib\\site-packages\\joblib\\externals\\loky\\backend\\context.py\", line 282, in _count_physical_cores\n",
                        "    raise ValueError(f\"found {cpu_count_physical} physical cores < 1\")\n"
                    ]
                }
            ],
            "source": [
                "from imblearn.over_sampling import SMOTE \n",
                "from collections import Counter\n",
                "\n",
                "oversample = SMOTE(random_state=21) \n",
                "X_res, y_res = oversample.fit_resample(X, y)\n",
                "\n",
                "X_train, X_test, y_train, y_test = train_test_split(X_res, y_res, test_size=0.2, random_state=21)\n",
                "counter_train = Counter(y_train)\n",
                "print(\"counter train: \")\n",
                "print(counter_train)\n",
                "counter_test = Counter(y_test)\n",
                "print(\"counter test:\")\n",
                "print(counter_test)"
            ]
        },
        {
            "cell_type": "code",
            "execution_count": 32,
            "metadata": {},
            "outputs": [
                {
                    "data": {
                        "text/plain": [
                            "array([1, 0, 1, 1, 1, 0, 0, 0, 0, 1])"
                        ]
                    },
                    "execution_count": 32,
                    "metadata": {},
                    "output_type": "execute_result"
                }
            ],
            "source": [
                "# runneando la optimisasió\n",
                "\n",
                "model_opt1 = SVC(**best_params)\n",
                "model_opt1.fit(X_train, y_train)\n",
                "\n",
                "y_pred_opt1 = model_opt1.predict(X_test)\n",
                "y_pred_train_opt1 = model_opt1.predict(X_train)\n",
                "\n",
                "\n",
                "y_pred_opt1[:10]"
            ]
        },
        {
            "cell_type": "code",
            "execution_count": 33,
            "metadata": {},
            "outputs": [
                {
                    "name": "stdout",
                    "output_type": "stream",
                    "text": [
                        "Test Score: \n",
                        "Accuracy Test:  0.9370932754880694\n",
                        "F1 score Test:  0.9361233480176211\n",
                        "Precision Test:  0.9444444444444444\n",
                        "Recall Test:  0.9279475982532751\n",
                        "\n",
                        "Train Score: \n",
                        "Accuracy Train:  0.9508686210640608\n",
                        "F1 score Train:  0.9499585291678186\n",
                        "Precision Train:  0.9695259593679458\n",
                        "Recall Train:  0.9311653116531166\n",
                        "\n",
                        "Model 1: \n",
                        "\n",
                        "              precision    recall  f1-score   support\n",
                        "\n",
                        "     No Spam       0.93      0.95      0.94       464\n",
                        "        Spam       0.94      0.93      0.94       458\n",
                        "\n",
                        "    accuracy                           0.94       922\n",
                        "   macro avg       0.94      0.94      0.94       922\n",
                        "weighted avg       0.94      0.94      0.94       922\n",
                        "\n"
                    ]
                }
            ],
            "source": [
                "from sklearn.metrics import accuracy_score\n",
                "from sklearn.metrics import f1_score\n",
                "from sklearn.metrics import precision_score\n",
                "from sklearn.metrics import recall_score\n",
                "from sklearn.metrics import classification_report\n",
                "\n",
                "accuracy_test = accuracy_score(y_test, y_pred_opt1)\n",
                "accuracy_train = accuracy_score(y_train, y_pred_train_opt1)\n",
                "\n",
                "f1_score_test = f1_score(y_test, y_pred_opt1)\n",
                "f1_score_train = f1_score(y_train, y_pred_train_opt1)\n",
                "\n",
                "precision_test = precision_score(y_test, y_pred_opt1)\n",
                "precision_train = precision_score(y_train, y_pred_train_opt1)\n",
                "\n",
                "recall_test = recall_score(y_test, y_pred_opt1)\n",
                "recall_train = recall_score(y_train, y_pred_train_opt1)\n",
                "\n",
                "print(\"Test Score: \")\n",
                "print(\"Accuracy Test: \", accuracy_test)\n",
                "print(\"F1 score Test: \", f1_score_test)\n",
                "print(\"Precision Test: \", precision_test)\n",
                "print(\"Recall Test: \", recall_test)\n",
                "print(\"\")\n",
                "print(\"Train Score: \")\n",
                "print(\"Accuracy Train: \", accuracy_train)\n",
                "print(\"F1 score Train: \", f1_score_train)\n",
                "print(\"Precision Train: \", precision_train)\n",
                "print(\"Recall Train: \", recall_train)\n",
                "\n",
                "print(\"\")\n",
                "print(\"Model 1: \")\n",
                "print(\"\")\n",
                "print(classification_report(y_test, y_pred_opt1, target_names=[\"No Spam\", \"Spam\"]))"
            ]
        },
        {
            "cell_type": "code",
            "execution_count": 34,
            "metadata": {},
            "outputs": [
                {
                    "data": {
                        "text/plain": [
                            "{'C': 10, 'gamma': 'scale', 'kernel': 'poly', 'random_state': 21}"
                        ]
                    },
                    "execution_count": 34,
                    "metadata": {},
                    "output_type": "execute_result"
                }
            ],
            "source": [
                "best_params"
            ]
        },
        {
            "cell_type": "markdown",
            "metadata": {},
            "source": [
                "### optimizació 2 amb variabels "
            ]
        },
        {
            "cell_type": "code",
            "execution_count": 35,
            "metadata": {},
            "outputs": [
                {
                    "ename": "KeyboardInterrupt",
                    "evalue": "",
                    "output_type": "error",
                    "traceback": [
                        "\u001b[1;31m---------------------------------------------------------------------------\u001b[0m",
                        "\u001b[1;31mKeyboardInterrupt\u001b[0m                         Traceback (most recent call last)",
                        "Cell \u001b[1;32mIn[35], line 11\u001b[0m\n\u001b[0;32m      3\u001b[0m hyperparameters \u001b[38;5;241m=\u001b[39m {\u001b[38;5;124m'\u001b[39m\u001b[38;5;124mkernel\u001b[39m\u001b[38;5;124m'\u001b[39m: [\u001b[38;5;124m\"\u001b[39m\u001b[38;5;124mlinear\u001b[39m\u001b[38;5;124m\"\u001b[39m, \u001b[38;5;124m\"\u001b[39m\u001b[38;5;124mrbf\u001b[39m\u001b[38;5;124m\"\u001b[39m, \u001b[38;5;124m\"\u001b[39m\u001b[38;5;124mpoly\u001b[39m\u001b[38;5;124m\"\u001b[39m],\n\u001b[0;32m      4\u001b[0m                    \u001b[38;5;124m'\u001b[39m\u001b[38;5;124mC\u001b[39m\u001b[38;5;124m'\u001b[39m: [\u001b[38;5;241m0.1\u001b[39m, \u001b[38;5;241m1\u001b[39m, \u001b[38;5;241m10\u001b[39m, \u001b[38;5;241m50\u001b[39m, \u001b[38;5;241m100\u001b[39m], \n\u001b[0;32m      5\u001b[0m                    \u001b[38;5;124m'\u001b[39m\u001b[38;5;124mgamma\u001b[39m\u001b[38;5;124m'\u001b[39m: [\u001b[38;5;241m1\u001b[39m, \u001b[38;5;241m0.1\u001b[39m, \u001b[38;5;241m0.01\u001b[39m, \u001b[38;5;241m0.001\u001b[39m, \u001b[38;5;241m0.0001\u001b[39m], \n\u001b[0;32m      6\u001b[0m                    \u001b[38;5;124m'\u001b[39m\u001b[38;5;124mrandom_state\u001b[39m\u001b[38;5;124m'\u001b[39m: [\u001b[38;5;241m21\u001b[39m],\n\u001b[0;32m      7\u001b[0m }\n\u001b[0;32m      9\u001b[0m grid \u001b[38;5;241m=\u001b[39m GridSearchCV(model_base, hyperparameters, cv\u001b[38;5;241m=\u001b[39m\u001b[38;5;241m5\u001b[39m, scoring\u001b[38;5;241m=\u001b[39m\u001b[38;5;124m'\u001b[39m\u001b[38;5;124maccuracy\u001b[39m\u001b[38;5;124m'\u001b[39m, n_jobs\u001b[38;5;241m=\u001b[39m\u001b[38;5;241m-\u001b[39m\u001b[38;5;241m1\u001b[39m)\n\u001b[1;32m---> 11\u001b[0m \u001b[43mgrid\u001b[49m\u001b[38;5;241;43m.\u001b[39;49m\u001b[43mfit\u001b[49m\u001b[43m(\u001b[49m\u001b[43mX_train\u001b[49m\u001b[43m,\u001b[49m\u001b[43m \u001b[49m\u001b[43my_train\u001b[49m\u001b[43m)\u001b[49m\n\u001b[0;32m     12\u001b[0m best_params \u001b[38;5;241m=\u001b[39m grid\u001b[38;5;241m.\u001b[39mbest_params_\n\u001b[0;32m     13\u001b[0m \u001b[38;5;28mprint\u001b[39m(\u001b[38;5;124mf\u001b[39m\u001b[38;5;124m\"\u001b[39m\u001b[38;5;124mBest hyperparameters: \u001b[39m\u001b[38;5;132;01m{\u001b[39;00mgrid\u001b[38;5;241m.\u001b[39mbest_params_\u001b[38;5;132;01m}\u001b[39;00m\u001b[38;5;124m\"\u001b[39m)\n",
                        "File \u001b[1;32mc:\\Users\\34616\\miniconda3\\envs\\GPU_Chiclanera\\lib\\site-packages\\sklearn\\base.py:1152\u001b[0m, in \u001b[0;36m_fit_context.<locals>.decorator.<locals>.wrapper\u001b[1;34m(estimator, *args, **kwargs)\u001b[0m\n\u001b[0;32m   1145\u001b[0m     estimator\u001b[38;5;241m.\u001b[39m_validate_params()\n\u001b[0;32m   1147\u001b[0m \u001b[38;5;28;01mwith\u001b[39;00m config_context(\n\u001b[0;32m   1148\u001b[0m     skip_parameter_validation\u001b[38;5;241m=\u001b[39m(\n\u001b[0;32m   1149\u001b[0m         prefer_skip_nested_validation \u001b[38;5;129;01mor\u001b[39;00m global_skip_validation\n\u001b[0;32m   1150\u001b[0m     )\n\u001b[0;32m   1151\u001b[0m ):\n\u001b[1;32m-> 1152\u001b[0m     \u001b[38;5;28;01mreturn\u001b[39;00m \u001b[43mfit_method\u001b[49m\u001b[43m(\u001b[49m\u001b[43mestimator\u001b[49m\u001b[43m,\u001b[49m\u001b[43m \u001b[49m\u001b[38;5;241;43m*\u001b[39;49m\u001b[43margs\u001b[49m\u001b[43m,\u001b[49m\u001b[43m \u001b[49m\u001b[38;5;241;43m*\u001b[39;49m\u001b[38;5;241;43m*\u001b[39;49m\u001b[43mkwargs\u001b[49m\u001b[43m)\u001b[49m\n",
                        "File \u001b[1;32mc:\\Users\\34616\\miniconda3\\envs\\GPU_Chiclanera\\lib\\site-packages\\sklearn\\model_selection\\_search.py:898\u001b[0m, in \u001b[0;36mBaseSearchCV.fit\u001b[1;34m(self, X, y, groups, **fit_params)\u001b[0m\n\u001b[0;32m    892\u001b[0m     results \u001b[38;5;241m=\u001b[39m \u001b[38;5;28mself\u001b[39m\u001b[38;5;241m.\u001b[39m_format_results(\n\u001b[0;32m    893\u001b[0m         all_candidate_params, n_splits, all_out, all_more_results\n\u001b[0;32m    894\u001b[0m     )\n\u001b[0;32m    896\u001b[0m     \u001b[38;5;28;01mreturn\u001b[39;00m results\n\u001b[1;32m--> 898\u001b[0m \u001b[38;5;28;43mself\u001b[39;49m\u001b[38;5;241;43m.\u001b[39;49m\u001b[43m_run_search\u001b[49m\u001b[43m(\u001b[49m\u001b[43mevaluate_candidates\u001b[49m\u001b[43m)\u001b[49m\n\u001b[0;32m    900\u001b[0m \u001b[38;5;66;03m# multimetric is determined here because in the case of a callable\u001b[39;00m\n\u001b[0;32m    901\u001b[0m \u001b[38;5;66;03m# self.scoring the return type is only known after calling\u001b[39;00m\n\u001b[0;32m    902\u001b[0m first_test_score \u001b[38;5;241m=\u001b[39m all_out[\u001b[38;5;241m0\u001b[39m][\u001b[38;5;124m\"\u001b[39m\u001b[38;5;124mtest_scores\u001b[39m\u001b[38;5;124m\"\u001b[39m]\n",
                        "File \u001b[1;32mc:\\Users\\34616\\miniconda3\\envs\\GPU_Chiclanera\\lib\\site-packages\\sklearn\\model_selection\\_search.py:1422\u001b[0m, in \u001b[0;36mGridSearchCV._run_search\u001b[1;34m(self, evaluate_candidates)\u001b[0m\n\u001b[0;32m   1420\u001b[0m \u001b[38;5;28;01mdef\u001b[39;00m \u001b[38;5;21m_run_search\u001b[39m(\u001b[38;5;28mself\u001b[39m, evaluate_candidates):\n\u001b[0;32m   1421\u001b[0m \u001b[38;5;250m    \u001b[39m\u001b[38;5;124;03m\"\"\"Search all candidates in param_grid\"\"\"\u001b[39;00m\n\u001b[1;32m-> 1422\u001b[0m     \u001b[43mevaluate_candidates\u001b[49m\u001b[43m(\u001b[49m\u001b[43mParameterGrid\u001b[49m\u001b[43m(\u001b[49m\u001b[38;5;28;43mself\u001b[39;49m\u001b[38;5;241;43m.\u001b[39;49m\u001b[43mparam_grid\u001b[49m\u001b[43m)\u001b[49m\u001b[43m)\u001b[49m\n",
                        "File \u001b[1;32mc:\\Users\\34616\\miniconda3\\envs\\GPU_Chiclanera\\lib\\site-packages\\sklearn\\model_selection\\_search.py:845\u001b[0m, in \u001b[0;36mBaseSearchCV.fit.<locals>.evaluate_candidates\u001b[1;34m(candidate_params, cv, more_results)\u001b[0m\n\u001b[0;32m    837\u001b[0m \u001b[38;5;28;01mif\u001b[39;00m \u001b[38;5;28mself\u001b[39m\u001b[38;5;241m.\u001b[39mverbose \u001b[38;5;241m>\u001b[39m \u001b[38;5;241m0\u001b[39m:\n\u001b[0;32m    838\u001b[0m     \u001b[38;5;28mprint\u001b[39m(\n\u001b[0;32m    839\u001b[0m         \u001b[38;5;124m\"\u001b[39m\u001b[38;5;124mFitting \u001b[39m\u001b[38;5;132;01m{0}\u001b[39;00m\u001b[38;5;124m folds for each of \u001b[39m\u001b[38;5;132;01m{1}\u001b[39;00m\u001b[38;5;124m candidates,\u001b[39m\u001b[38;5;124m\"\u001b[39m\n\u001b[0;32m    840\u001b[0m         \u001b[38;5;124m\"\u001b[39m\u001b[38;5;124m totalling \u001b[39m\u001b[38;5;132;01m{2}\u001b[39;00m\u001b[38;5;124m fits\u001b[39m\u001b[38;5;124m\"\u001b[39m\u001b[38;5;241m.\u001b[39mformat(\n\u001b[0;32m    841\u001b[0m             n_splits, n_candidates, n_candidates \u001b[38;5;241m*\u001b[39m n_splits\n\u001b[0;32m    842\u001b[0m         )\n\u001b[0;32m    843\u001b[0m     )\n\u001b[1;32m--> 845\u001b[0m out \u001b[38;5;241m=\u001b[39m \u001b[43mparallel\u001b[49m\u001b[43m(\u001b[49m\n\u001b[0;32m    846\u001b[0m \u001b[43m    \u001b[49m\u001b[43mdelayed\u001b[49m\u001b[43m(\u001b[49m\u001b[43m_fit_and_score\u001b[49m\u001b[43m)\u001b[49m\u001b[43m(\u001b[49m\n\u001b[0;32m    847\u001b[0m \u001b[43m        \u001b[49m\u001b[43mclone\u001b[49m\u001b[43m(\u001b[49m\u001b[43mbase_estimator\u001b[49m\u001b[43m)\u001b[49m\u001b[43m,\u001b[49m\n\u001b[0;32m    848\u001b[0m \u001b[43m        \u001b[49m\u001b[43mX\u001b[49m\u001b[43m,\u001b[49m\n\u001b[0;32m    849\u001b[0m \u001b[43m        \u001b[49m\u001b[43my\u001b[49m\u001b[43m,\u001b[49m\n\u001b[0;32m    850\u001b[0m \u001b[43m        \u001b[49m\u001b[43mtrain\u001b[49m\u001b[38;5;241;43m=\u001b[39;49m\u001b[43mtrain\u001b[49m\u001b[43m,\u001b[49m\n\u001b[0;32m    851\u001b[0m \u001b[43m        \u001b[49m\u001b[43mtest\u001b[49m\u001b[38;5;241;43m=\u001b[39;49m\u001b[43mtest\u001b[49m\u001b[43m,\u001b[49m\n\u001b[0;32m    852\u001b[0m \u001b[43m        \u001b[49m\u001b[43mparameters\u001b[49m\u001b[38;5;241;43m=\u001b[39;49m\u001b[43mparameters\u001b[49m\u001b[43m,\u001b[49m\n\u001b[0;32m    853\u001b[0m \u001b[43m        \u001b[49m\u001b[43msplit_progress\u001b[49m\u001b[38;5;241;43m=\u001b[39;49m\u001b[43m(\u001b[49m\u001b[43msplit_idx\u001b[49m\u001b[43m,\u001b[49m\u001b[43m \u001b[49m\u001b[43mn_splits\u001b[49m\u001b[43m)\u001b[49m\u001b[43m,\u001b[49m\n\u001b[0;32m    854\u001b[0m \u001b[43m        \u001b[49m\u001b[43mcandidate_progress\u001b[49m\u001b[38;5;241;43m=\u001b[39;49m\u001b[43m(\u001b[49m\u001b[43mcand_idx\u001b[49m\u001b[43m,\u001b[49m\u001b[43m \u001b[49m\u001b[43mn_candidates\u001b[49m\u001b[43m)\u001b[49m\u001b[43m,\u001b[49m\n\u001b[0;32m    855\u001b[0m \u001b[43m        \u001b[49m\u001b[38;5;241;43m*\u001b[39;49m\u001b[38;5;241;43m*\u001b[39;49m\u001b[43mfit_and_score_kwargs\u001b[49m\u001b[43m,\u001b[49m\n\u001b[0;32m    856\u001b[0m \u001b[43m    \u001b[49m\u001b[43m)\u001b[49m\n\u001b[0;32m    857\u001b[0m \u001b[43m    \u001b[49m\u001b[38;5;28;43;01mfor\u001b[39;49;00m\u001b[43m \u001b[49m\u001b[43m(\u001b[49m\u001b[43mcand_idx\u001b[49m\u001b[43m,\u001b[49m\u001b[43m \u001b[49m\u001b[43mparameters\u001b[49m\u001b[43m)\u001b[49m\u001b[43m,\u001b[49m\u001b[43m \u001b[49m\u001b[43m(\u001b[49m\u001b[43msplit_idx\u001b[49m\u001b[43m,\u001b[49m\u001b[43m \u001b[49m\u001b[43m(\u001b[49m\u001b[43mtrain\u001b[49m\u001b[43m,\u001b[49m\u001b[43m \u001b[49m\u001b[43mtest\u001b[49m\u001b[43m)\u001b[49m\u001b[43m)\u001b[49m\u001b[43m \u001b[49m\u001b[38;5;129;43;01min\u001b[39;49;00m\u001b[43m \u001b[49m\u001b[43mproduct\u001b[49m\u001b[43m(\u001b[49m\n\u001b[0;32m    858\u001b[0m \u001b[43m        \u001b[49m\u001b[38;5;28;43menumerate\u001b[39;49m\u001b[43m(\u001b[49m\u001b[43mcandidate_params\u001b[49m\u001b[43m)\u001b[49m\u001b[43m,\u001b[49m\u001b[43m \u001b[49m\u001b[38;5;28;43menumerate\u001b[39;49m\u001b[43m(\u001b[49m\u001b[43mcv\u001b[49m\u001b[38;5;241;43m.\u001b[39;49m\u001b[43msplit\u001b[49m\u001b[43m(\u001b[49m\u001b[43mX\u001b[49m\u001b[43m,\u001b[49m\u001b[43m \u001b[49m\u001b[43my\u001b[49m\u001b[43m,\u001b[49m\u001b[43m \u001b[49m\u001b[43mgroups\u001b[49m\u001b[43m)\u001b[49m\u001b[43m)\u001b[49m\n\u001b[0;32m    859\u001b[0m \u001b[43m    \u001b[49m\u001b[43m)\u001b[49m\n\u001b[0;32m    860\u001b[0m \u001b[43m\u001b[49m\u001b[43m)\u001b[49m\n\u001b[0;32m    862\u001b[0m \u001b[38;5;28;01mif\u001b[39;00m \u001b[38;5;28mlen\u001b[39m(out) \u001b[38;5;241m<\u001b[39m \u001b[38;5;241m1\u001b[39m:\n\u001b[0;32m    863\u001b[0m     \u001b[38;5;28;01mraise\u001b[39;00m \u001b[38;5;167;01mValueError\u001b[39;00m(\n\u001b[0;32m    864\u001b[0m         \u001b[38;5;124m\"\u001b[39m\u001b[38;5;124mNo fits were performed. \u001b[39m\u001b[38;5;124m\"\u001b[39m\n\u001b[0;32m    865\u001b[0m         \u001b[38;5;124m\"\u001b[39m\u001b[38;5;124mWas the CV iterator empty? \u001b[39m\u001b[38;5;124m\"\u001b[39m\n\u001b[0;32m    866\u001b[0m         \u001b[38;5;124m\"\u001b[39m\u001b[38;5;124mWere there no candidates?\u001b[39m\u001b[38;5;124m\"\u001b[39m\n\u001b[0;32m    867\u001b[0m     )\n",
                        "File \u001b[1;32mc:\\Users\\34616\\miniconda3\\envs\\GPU_Chiclanera\\lib\\site-packages\\sklearn\\utils\\parallel.py:65\u001b[0m, in \u001b[0;36mParallel.__call__\u001b[1;34m(self, iterable)\u001b[0m\n\u001b[0;32m     60\u001b[0m config \u001b[38;5;241m=\u001b[39m get_config()\n\u001b[0;32m     61\u001b[0m iterable_with_config \u001b[38;5;241m=\u001b[39m (\n\u001b[0;32m     62\u001b[0m     (_with_config(delayed_func, config), args, kwargs)\n\u001b[0;32m     63\u001b[0m     \u001b[38;5;28;01mfor\u001b[39;00m delayed_func, args, kwargs \u001b[38;5;129;01min\u001b[39;00m iterable\n\u001b[0;32m     64\u001b[0m )\n\u001b[1;32m---> 65\u001b[0m \u001b[38;5;28;01mreturn\u001b[39;00m \u001b[38;5;28;43msuper\u001b[39;49m\u001b[43m(\u001b[49m\u001b[43m)\u001b[49m\u001b[38;5;241;43m.\u001b[39;49m\u001b[38;5;21;43m__call__\u001b[39;49m\u001b[43m(\u001b[49m\u001b[43miterable_with_config\u001b[49m\u001b[43m)\u001b[49m\n",
                        "File \u001b[1;32mc:\\Users\\34616\\miniconda3\\envs\\GPU_Chiclanera\\lib\\site-packages\\joblib\\parallel.py:2007\u001b[0m, in \u001b[0;36mParallel.__call__\u001b[1;34m(self, iterable)\u001b[0m\n\u001b[0;32m   2001\u001b[0m \u001b[38;5;66;03m# The first item from the output is blank, but it makes the interpreter\u001b[39;00m\n\u001b[0;32m   2002\u001b[0m \u001b[38;5;66;03m# progress until it enters the Try/Except block of the generator and\u001b[39;00m\n\u001b[0;32m   2003\u001b[0m \u001b[38;5;66;03m# reaches the first `yield` statement. This starts the asynchronous\u001b[39;00m\n\u001b[0;32m   2004\u001b[0m \u001b[38;5;66;03m# dispatch of the tasks to the workers.\u001b[39;00m\n\u001b[0;32m   2005\u001b[0m \u001b[38;5;28mnext\u001b[39m(output)\n\u001b[1;32m-> 2007\u001b[0m \u001b[38;5;28;01mreturn\u001b[39;00m output \u001b[38;5;28;01mif\u001b[39;00m \u001b[38;5;28mself\u001b[39m\u001b[38;5;241m.\u001b[39mreturn_generator \u001b[38;5;28;01melse\u001b[39;00m \u001b[38;5;28;43mlist\u001b[39;49m\u001b[43m(\u001b[49m\u001b[43moutput\u001b[49m\u001b[43m)\u001b[49m\n",
                        "File \u001b[1;32mc:\\Users\\34616\\miniconda3\\envs\\GPU_Chiclanera\\lib\\site-packages\\joblib\\parallel.py:1650\u001b[0m, in \u001b[0;36mParallel._get_outputs\u001b[1;34m(self, iterator, pre_dispatch)\u001b[0m\n\u001b[0;32m   1647\u001b[0m     \u001b[38;5;28;01myield\u001b[39;00m\n\u001b[0;32m   1649\u001b[0m     \u001b[38;5;28;01mwith\u001b[39;00m \u001b[38;5;28mself\u001b[39m\u001b[38;5;241m.\u001b[39m_backend\u001b[38;5;241m.\u001b[39mretrieval_context():\n\u001b[1;32m-> 1650\u001b[0m         \u001b[38;5;28;01myield from\u001b[39;00m \u001b[38;5;28mself\u001b[39m\u001b[38;5;241m.\u001b[39m_retrieve()\n\u001b[0;32m   1652\u001b[0m \u001b[38;5;28;01mexcept\u001b[39;00m \u001b[38;5;167;01mGeneratorExit\u001b[39;00m:\n\u001b[0;32m   1653\u001b[0m     \u001b[38;5;66;03m# The generator has been garbage collected before being fully\u001b[39;00m\n\u001b[0;32m   1654\u001b[0m     \u001b[38;5;66;03m# consumed. This aborts the remaining tasks if possible and warn\u001b[39;00m\n\u001b[0;32m   1655\u001b[0m     \u001b[38;5;66;03m# the user if necessary.\u001b[39;00m\n\u001b[0;32m   1656\u001b[0m     \u001b[38;5;28mself\u001b[39m\u001b[38;5;241m.\u001b[39m_exception \u001b[38;5;241m=\u001b[39m \u001b[38;5;28;01mTrue\u001b[39;00m\n",
                        "File \u001b[1;32mc:\\Users\\34616\\miniconda3\\envs\\GPU_Chiclanera\\lib\\site-packages\\joblib\\parallel.py:1762\u001b[0m, in \u001b[0;36mParallel._retrieve\u001b[1;34m(self)\u001b[0m\n\u001b[0;32m   1757\u001b[0m \u001b[38;5;66;03m# If the next job is not ready for retrieval yet, we just wait for\u001b[39;00m\n\u001b[0;32m   1758\u001b[0m \u001b[38;5;66;03m# async callbacks to progress.\u001b[39;00m\n\u001b[0;32m   1759\u001b[0m \u001b[38;5;28;01mif\u001b[39;00m ((\u001b[38;5;28mlen\u001b[39m(\u001b[38;5;28mself\u001b[39m\u001b[38;5;241m.\u001b[39m_jobs) \u001b[38;5;241m==\u001b[39m \u001b[38;5;241m0\u001b[39m) \u001b[38;5;129;01mor\u001b[39;00m\n\u001b[0;32m   1760\u001b[0m     (\u001b[38;5;28mself\u001b[39m\u001b[38;5;241m.\u001b[39m_jobs[\u001b[38;5;241m0\u001b[39m]\u001b[38;5;241m.\u001b[39mget_status(\n\u001b[0;32m   1761\u001b[0m         timeout\u001b[38;5;241m=\u001b[39m\u001b[38;5;28mself\u001b[39m\u001b[38;5;241m.\u001b[39mtimeout) \u001b[38;5;241m==\u001b[39m TASK_PENDING)):\n\u001b[1;32m-> 1762\u001b[0m     \u001b[43mtime\u001b[49m\u001b[38;5;241;43m.\u001b[39;49m\u001b[43msleep\u001b[49m\u001b[43m(\u001b[49m\u001b[38;5;241;43m0.01\u001b[39;49m\u001b[43m)\u001b[49m\n\u001b[0;32m   1763\u001b[0m     \u001b[38;5;28;01mcontinue\u001b[39;00m\n\u001b[0;32m   1765\u001b[0m \u001b[38;5;66;03m# We need to be careful: the job list can be filling up as\u001b[39;00m\n\u001b[0;32m   1766\u001b[0m \u001b[38;5;66;03m# we empty it and Python list are not thread-safe by\u001b[39;00m\n\u001b[0;32m   1767\u001b[0m \u001b[38;5;66;03m# default hence the use of the lock\u001b[39;00m\n",
                        "\u001b[1;31mKeyboardInterrupt\u001b[0m: "
                    ]
                }
            ],
            "source": [
                "model_base = SVC()\n",
                "\n",
                "hyperparameters = {'kernel': [\"linear\", \"rbf\", \"poly\"],\n",
                "                   'C': [0.1, 1, 10, 50, 100], \n",
                "                   'gamma': [1, 0.1, 0.01, 0.001, 0.0001], \n",
                "                   'random_state': [21],\n",
                "}\n",
                "\n",
                "grid = GridSearchCV(model_base, hyperparameters, cv=5, scoring='accuracy', n_jobs=-1)\n",
                "\n",
                "grid.fit(X_train, y_train)\n",
                "best_params = grid.best_params_\n",
                "print(f\"Best hyperparameters: {grid.best_params_}\")\n"
            ]
        },
        {
            "cell_type": "markdown",
            "metadata": {},
            "source": [
                "gpu: 8mins 24s\n",
                "cpu: 6mins 52s"
            ]
        },
        {
            "cell_type": "code",
            "execution_count": null,
            "metadata": {},
            "outputs": [
                {
                    "data": {
                        "text/plain": [
                            "array([1, 0, 1, 1, 1, 0, 0, 0, 0, 1])"
                        ]
                    },
                    "execution_count": 37,
                    "metadata": {},
                    "output_type": "execute_result"
                }
            ],
            "source": [
                "# runneando la optimisasió\n",
                "\n",
                "model_opt2 = SVC(**best_params)\n",
                "model_opt2.fit(X_train, y_train)\n",
                "\n",
                "y_pred_opt2 = model_opt2.predict(X_test)\n",
                "y_pred_train_opt2 = model_opt2.predict(X_train)\n",
                "\n",
                "\n",
                "y_pred_opt2[:10]"
            ]
        },
        {
            "cell_type": "code",
            "execution_count": null,
            "metadata": {},
            "outputs": [
                {
                    "name": "stdout",
                    "output_type": "stream",
                    "text": [
                        "Test Score: \n",
                        "Accuracy Test:  0.9457700650759219\n",
                        "F1 score Test:  0.9460043196544277\n",
                        "Precision Test:  0.9358974358974359\n",
                        "Recall Test:  0.9563318777292577\n",
                        "\n",
                        "Train Score: \n",
                        "Accuracy Train:  0.9641693811074918\n",
                        "F1 score Train:  0.9639541234298198\n",
                        "Precision Train:  0.9713813979086406\n",
                        "Recall Train:  0.9566395663956639\n",
                        "\n",
                        "Model 1: \n",
                        "\n",
                        "              precision    recall  f1-score   support\n",
                        "\n",
                        "     No Spam       0.96      0.94      0.95       464\n",
                        "        Spam       0.94      0.96      0.95       458\n",
                        "\n",
                        "    accuracy                           0.95       922\n",
                        "   macro avg       0.95      0.95      0.95       922\n",
                        "weighted avg       0.95      0.95      0.95       922\n",
                        "\n"
                    ]
                }
            ],
            "source": [
                "accuracy_test = accuracy_score(y_test, y_pred_opt2)\n",
                "accuracy_train = accuracy_score(y_train, y_pred_train_opt2)\n",
                "\n",
                "f1_score_test = f1_score(y_test, y_pred_opt2)\n",
                "f1_score_train = f1_score(y_train, y_pred_train_opt2)\n",
                "\n",
                "precision_test = precision_score(y_test, y_pred_opt2)\n",
                "precision_train = precision_score(y_train, y_pred_train_opt2)\n",
                "\n",
                "recall_test = recall_score(y_test, y_pred_opt2)\n",
                "recall_train = recall_score(y_train, y_pred_train_opt2)\n",
                "\n",
                "print(\"Test Score: \")\n",
                "print(\"Accuracy Test: \", accuracy_test)\n",
                "print(\"F1 score Test: \", f1_score_test)\n",
                "print(\"Precision Test: \", precision_test)\n",
                "print(\"Recall Test: \", recall_test)\n",
                "print(\"\")\n",
                "print(\"Train Score: \")\n",
                "print(\"Accuracy Train: \", accuracy_train)\n",
                "print(\"F1 score Train: \", f1_score_train)\n",
                "print(\"Precision Train: \", precision_train)\n",
                "print(\"Recall Train: \", recall_train)\n",
                "\n",
                "print(\"\")\n",
                "print(\"Model 1: \")\n",
                "print(\"\")\n",
                "print(classification_report(y_test, y_pred_opt2, target_names=[\"No Spam\", \"Spam\"]))"
            ]
        },
        {
            "cell_type": "markdown",
            "metadata": {},
            "source": [
                "#### 3era optimització per provar el nou entorn"
            ]
        },
        {
            "cell_type": "code",
            "execution_count": 36,
            "metadata": {},
            "outputs": [
                {
                    "name": "stdout",
                    "output_type": "stream",
                    "text": [
                        "Best hyperparameters: {'C': 1000, 'gamma': 0.1, 'kernel': 'rbf', 'random_state': 21}\n"
                    ]
                }
            ],
            "source": [
                "model_base = SVC()\n",
                "\n",
                "hyperparameters = {'kernel': [\"linear\", \"rbf\", \"poly\"],\n",
                "                   'C': [10, 50, 100, 250, 1000], \n",
                "                   'gamma': [1, 0.5, 0.1], \n",
                "                   'random_state': [21],\n",
                "}\n",
                "\n",
                "grid = GridSearchCV(model_base, hyperparameters, cv=5, scoring='accuracy', n_jobs=-1)\n",
                "\n",
                "grid.fit(X_train, y_train)\n",
                "best_params = grid.best_params_\n",
                "print(f\"Best hyperparameters: {grid.best_params_}\")"
            ]
        },
        {
            "cell_type": "markdown",
            "metadata": {},
            "source": [
                "cpu: 2m 36s\n",
                "\n",
                "gpu: 2m 34s"
            ]
        },
        {
            "cell_type": "code",
            "execution_count": 37,
            "metadata": {},
            "outputs": [
                {
                    "data": {
                        "text/plain": [
                            "array([1, 0, 1, 1, 1, 0, 0, 0, 0, 1])"
                        ]
                    },
                    "execution_count": 37,
                    "metadata": {},
                    "output_type": "execute_result"
                }
            ],
            "source": [
                "# runneando la optimisasió\n",
                "\n",
                "model_opt2 = SVC(**best_params)\n",
                "model_opt2.fit(X_train, y_train)\n",
                "\n",
                "y_pred_opt2 = model_opt2.predict(X_test)\n",
                "y_pred_train_opt2 = model_opt2.predict(X_train)\n",
                "\n",
                "\n",
                "y_pred_opt2[:10]"
            ]
        },
        {
            "cell_type": "code",
            "execution_count": 38,
            "metadata": {},
            "outputs": [
                {
                    "name": "stdout",
                    "output_type": "stream",
                    "text": [
                        "Test Score: \n",
                        "Accuracy Test:  0.9479392624728851\n",
                        "F1 score Test:  0.948051948051948\n",
                        "Precision Test:  0.9399141630901288\n",
                        "Recall Test:  0.9563318777292577\n",
                        "\n",
                        "Train Score: \n",
                        "Accuracy Train:  0.9641693811074918\n",
                        "F1 score Train:  0.9639541234298199\n",
                        "Precision Train:  0.9713813979086406\n",
                        "Recall Train:  0.9566395663956639\n",
                        "\n",
                        "Model 1: \n",
                        "\n",
                        "              precision    recall  f1-score   support\n",
                        "\n",
                        "     No Spam       0.96      0.94      0.95       464\n",
                        "        Spam       0.94      0.96      0.95       458\n",
                        "\n",
                        "    accuracy                           0.95       922\n",
                        "   macro avg       0.95      0.95      0.95       922\n",
                        "weighted avg       0.95      0.95      0.95       922\n",
                        "\n"
                    ]
                }
            ],
            "source": [
                "accuracy_test = accuracy_score(y_test, y_pred_opt2)\n",
                "accuracy_train = accuracy_score(y_train, y_pred_train_opt2)\n",
                "\n",
                "f1_score_test = f1_score(y_test, y_pred_opt2)\n",
                "f1_score_train = f1_score(y_train, y_pred_train_opt2)\n",
                "\n",
                "precision_test = precision_score(y_test, y_pred_opt2)\n",
                "precision_train = precision_score(y_train, y_pred_train_opt2)\n",
                "\n",
                "recall_test = recall_score(y_test, y_pred_opt2)\n",
                "recall_train = recall_score(y_train, y_pred_train_opt2)\n",
                "\n",
                "print(\"Test Score: \")\n",
                "print(\"Accuracy Test: \", accuracy_test)\n",
                "print(\"F1 score Test: \", f1_score_test)\n",
                "print(\"Precision Test: \", precision_test)\n",
                "print(\"Recall Test: \", recall_test)\n",
                "print(\"\")\n",
                "print(\"Train Score: \")\n",
                "print(\"Accuracy Train: \", accuracy_train)\n",
                "print(\"F1 score Train: \", f1_score_train)\n",
                "print(\"Precision Train: \", precision_train)\n",
                "print(\"Recall Train: \", recall_train)\n",
                "\n",
                "print(\"\")\n",
                "print(\"Model 1: \")\n",
                "print(\"\")\n",
                "print(classification_report(y_test, y_pred_opt2, target_names=[\"No Spam\", \"Spam\"]))"
            ]
        }
    ],
    "metadata": {
        "kernelspec": {
            "display_name": "Python 3.8.13 64-bit ('3.8.13')",
            "language": "python",
            "name": "python3"
        },
        "language_info": {
            "codemirror_mode": {
                "name": "ipython",
                "version": 3
            },
            "file_extension": ".py",
            "mimetype": "text/x-python",
            "name": "python",
            "nbconvert_exporter": "python",
            "pygments_lexer": "ipython3",
            "version": "3.8.0"
        },
        "orig_nbformat": 4,
        "vscode": {
            "interpreter": {
                "hash": "110cc1dee26208153f2972f08a2ad52b6a56238dc66d48e87fb757ef2996db56"
            }
        }
    },
    "nbformat": 4,
    "nbformat_minor": 2
}
